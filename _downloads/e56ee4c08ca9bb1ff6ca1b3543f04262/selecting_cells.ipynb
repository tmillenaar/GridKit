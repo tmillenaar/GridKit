{
  "cells": [
    {
      "cell_type": "markdown",
      "metadata": {},
      "source": [
        "\n\n# Cell selection using other grids\n\nIdentify specific cells using other grids\n\n## Introduction\n\nGrids of different shapes and sizes often interact with each other in predictable ways.\nThis is demonstrated also in `example hexagon grids`.\nThis can be used to identify cells from one grid using an other grid.\nThis may sound abstract, but in this example images will be provided to show what is meant here.\n\nIn this example a grid is created where the cells are colored based on how they relate to a second grid.\n\n## Defining matching grids\n\nFor two grids to overlap in predictable ways, we need to be mindful of our grid definitions.\n\nLet's create two grids, both centered around zero,\nwhere one grid's cells are exactly three times larger than the other grid's cells.\n"
      ]
    },
    {
      "cell_type": "code",
      "execution_count": null,
      "metadata": {
        "collapsed": false
      },
      "outputs": [],
      "source": [
        "import matplotlib.pyplot as plt\n\nfrom gridkit import HexGrid\nfrom gridkit.doc_utils import plot_polygons\n\n# create a grids\nfine_grid = HexGrid(size=1).anchor([0, 0])\ncoarse_grid = HexGrid(size=3 * fine_grid.size).anchor([0, 0])"
      ]
    },
    {
      "cell_type": "markdown",
      "metadata": {},
      "source": [
        "Now we have a fine grid, which is the one we want to color,\nand we have a course grid which we will use to do this.\nFirst, let's plot the outlines of the two grids so we can verify our grids indeed overlap as expected.\nTo plot the outlines we can select an area of interest and represent the cells in this area as polygons.\nThese polygons can then be plotted. Since the grids were defined to be centered around zero,\nlet's center our are of interest around zero as well.\n\n"
      ]
    },
    {
      "cell_type": "code",
      "execution_count": null,
      "metadata": {
        "collapsed": false
      },
      "outputs": [],
      "source": [
        "# define an area of interest, slightly larger than what we want to plot\nbounds = (-7, -7, 7, 7)\n\nfine_bounds = fine_grid.align_bounds(bounds)\nfine_cell_ids = fine_grid.cells_in_bounds(fine_bounds)\nfine_shapes = fine_grid.to_shapely(fine_cell_ids)\n\ncoarse_bounds = coarse_grid.align_bounds(bounds)\ncoarse_cell_ids = coarse_grid.cells_in_bounds(coarse_bounds)\ncoarse_shapes = coarse_grid.to_shapely(coarse_cell_ids)"
      ]
    },
    {
      "cell_type": "markdown",
      "metadata": {},
      "source": [
        "Let's plot our grids in the same image so we can compare them.\n\n"
      ]
    },
    {
      "cell_type": "code",
      "execution_count": null,
      "metadata": {
        "collapsed": false
      },
      "outputs": [],
      "source": [
        "plot_polygons(fine_shapes, fill=False, linewidth=1, colors=\"purple\")\nplot_polygons(coarse_shapes, fill=False, linewidth=2, colors=\"orange\")\n\nplt.xlim(-4.5, 4.5)\nplt.ylim(-4.5, 4.5)\nplt.show()"
      ]
    },
    {
      "cell_type": "markdown",
      "metadata": {},
      "source": [
        "The grids seem to align nicely. Also, there are exactly three purple cells\nbetween two orange cell edges, as intended.\nArguably, there are three categories of purple cells when compared to the orange grid.\nThe first category contains the purple cells at the center of each of the orange cells.\nSecondly we have the neighbours of these center cells and lastly we have the purple cells at the\nvertices of the orange cells.\nLet's start by coloring in the center cells.\n\n"
      ]
    },
    {
      "cell_type": "code",
      "execution_count": null,
      "metadata": {
        "collapsed": false
      },
      "outputs": [],
      "source": [
        "coarse_centroids = coarse_grid.centroid(coarse_cell_ids)\ncenter_cells = fine_grid.cell_at_point(coarse_centroids)\ncenter_shapes = fine_grid.to_shapely(center_cells)\n\nplot_polygons(fine_shapes, fill=False, linewidth=1, colors=\"purple\")\nplot_polygons(center_shapes, fill=True, colors=\"limegreen\", alpha=0.6)\nplot_polygons(coarse_shapes, fill=False, linewidth=2, colors=\"orange\")\n\nplt.xlim(-4.5, 4.5)\nplt.ylim(-4.5, 4.5)\nplt.show()"
      ]
    },
    {
      "cell_type": "markdown",
      "metadata": {},
      "source": [
        "Next, let's use these center cells to find their neighbours and color them too.\n\n"
      ]
    },
    {
      "cell_type": "code",
      "execution_count": null,
      "metadata": {
        "collapsed": false
      },
      "outputs": [],
      "source": [
        "# return axes ('inital_cells', 'neighbours', 'xy') with shape (42, 6, 2)\ncenter_neighbour_cells = fine_grid.neighbours(center_cells)\n# flatten cell_ids to axes ('all_neigbours', 'xy') with shape (252, 2)\ncenter_neighbour_cells = center_neighbour_cells.ravel()\ncenter_neighbour_shapes = fine_grid.to_shapely(center_neighbour_cells)\n\nplot_polygons(center_shapes, fill=True, colors=\"limegreen\", alpha=0.6)\nplot_polygons(center_neighbour_shapes, fill=True, colors=\"sandybrown\", alpha=0.6)\nplot_polygons(fine_shapes, fill=False, linewidth=1, colors=\"purple\")\nplot_polygons(coarse_shapes, fill=False, linewidth=2, colors=\"orange\")\n\nplt.xlim(-4.5, 4.5)\nplt.ylim(-4.5, 4.5)\nplt.show()"
      ]
    },
    {
      "cell_type": "markdown",
      "metadata": {},
      "source": [
        "Lastly, let's find coordinates of the vertices of the orange cells.\nWe then find what purple cells are a these coordinates and color them as well.\n\n"
      ]
    },
    {
      "cell_type": "code",
      "execution_count": null,
      "metadata": {
        "collapsed": false
      },
      "outputs": [],
      "source": [
        "vertices = coarse_grid.cell_corners(coarse_cell_ids).reshape((-1, 2))\nvertices_cells = fine_grid.cell_at_point(vertices)\nvertices_cells = vertices_cells.unique()  # drop duplicate ids\nvertices_shapes = fine_grid.to_shapely(vertices_cells)\n\nplot_polygons(center_shapes, fill=True, colors=\"limegreen\", alpha=0.6)\nplot_polygons(center_neighbour_shapes, fill=True, colors=\"sandybrown\", alpha=0.6)\nplot_polygons(vertices_shapes, fill=True, colors=\"darkcyan\", alpha=0.6)\nplot_polygons(fine_shapes, fill=False, linewidth=1, colors=\"purple\")\nplot_polygons(coarse_shapes, fill=False, linewidth=2, colors=\"orange\")\n\nplt.xlim(-4.5, 4.5)\nplt.ylim(-4.5, 4.5)\nplt.show()"
      ]
    },
    {
      "cell_type": "markdown",
      "metadata": {},
      "source": [
        "Now the purple grid is colored, based on it's relation to the orange grid.\n\n"
      ]
    }
  ],
  "metadata": {
    "kernelspec": {
      "display_name": "Python 3",
      "language": "python",
      "name": "python3"
    },
    "language_info": {
      "codemirror_mode": {
        "name": "ipython",
        "version": 3
      },
      "file_extension": ".py",
      "mimetype": "text/x-python",
      "name": "python",
      "nbconvert_exporter": "python",
      "pygments_lexer": "ipython3",
      "version": "3.8.18"
    }
  },
  "nbformat": 4,
  "nbformat_minor": 0
}