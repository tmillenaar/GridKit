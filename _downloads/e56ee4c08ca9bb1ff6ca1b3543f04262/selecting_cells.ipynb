{
  "cells": [
    {
      "cell_type": "markdown",
      "metadata": {},
      "source": [
        "\n\n# Cell selection using other grids\n\nIdentify specific cells using other grids\n\n## Introduction\n\nGrids of different shapes and sizes often interact with each other in predictable ways.\nThis is demonstrated also in `example hexagon grids`.\nThis can be used to identify cells from one grid using an other grid.\nThis may sound abstract, but in this example images will be provided to show what is meant here.\n\nIn this example a grid is created where the cells are colored based on how they relate to a second grid.\n\n## Defining matching grids\n\nFor two grids to overlap in predictable ways, we need to be mindful of our grid definitions.\n\nLet's create two grids, both centered around zero,\nwhere one grid's cells are exactly three times larger than the other grid's cells.\n"
      ]
    },
    {
      "cell_type": "code",
      "execution_count": null,
      "metadata": {
        "collapsed": false
      },
      "outputs": [],
      "source": [
        "import numpy\n\nfrom gridkit.hex_grid import HexGrid\n\n# create a grids\nfine_grid = HexGrid(size=1, shape=\"pointy\")\nfine_grid._offset = (0, fine_grid.dy / 2)\ncoarse_grid = HexGrid(\n    size=3 * fine_grid.dx, offset=(0, 3 * fine_grid.dy / 2), shape=\"pointy\"\n)"
      ]
    },
    {
      "cell_type": "markdown",
      "metadata": {},
      "source": [
        "Now we have a fine grid, which is the one we want to color,\nand we have a course grid which we will use to do this.\nFirst, let's plot the outlines of the two grids so we can verify our grids indeed overlap as expected.\nTo plot the outlines we can select an area of interest and represent the cells in this area as polygons.\nThese polygons can then be plotted. Since the grids were defined to be centered around zero,\nlet's center our are of interest around zero as well.\n\n"
      ]
    },
    {
      "cell_type": "code",
      "execution_count": null,
      "metadata": {
        "collapsed": false
      },
      "outputs": [],
      "source": [
        "# define an area of interest, slightly larger than what we want to plot\nbounds = (-7, -7, 7, 7)\n\nfine_bounds = fine_grid.align_bounds(bounds)\nfine_cell_ids = fine_grid.cells_in_bounds(fine_bounds)[0]\nfine_shapes = fine_grid.to_shapely(fine_cell_ids, as_multipolygon=True)\n\ncoarse_bounds = coarse_grid.align_bounds(bounds)\ncoarse_cell_ids = coarse_grid.cells_in_bounds(coarse_bounds)[0]\ncoarse_shapes = coarse_grid.to_shapely(coarse_cell_ids, as_multipolygon=True)"
      ]
    },
    {
      "cell_type": "markdown",
      "metadata": {},
      "source": [
        "Now let's define a plotting function that can either plot the outline of each cell or fill it with a color.\n\n"
      ]
    },
    {
      "cell_type": "code",
      "execution_count": null,
      "metadata": {
        "collapsed": false
      },
      "outputs": [],
      "source": [
        "import matplotlib.pyplot as plt\n\n\ndef plot_shapes(shapes, color, fill=False, **kwargs):\n    \"\"\"Simple function to plot polygons with matplotlib\"\"\"\n    plot_func = plt.fill if fill else plt.plot\n    for geom in shapes.geoms:\n        plot_func(*geom.exterior.xy, color=color, **kwargs)"
      ]
    },
    {
      "cell_type": "markdown",
      "metadata": {},
      "source": [
        "Let's use this to plot our grids in the same image so we can compare them.\n\n"
      ]
    },
    {
      "cell_type": "code",
      "execution_count": null,
      "metadata": {
        "collapsed": false
      },
      "outputs": [],
      "source": [
        "plot_shapes(fine_shapes, linewidth=1, color=\"purple\")\nplot_shapes(coarse_shapes, linewidth=2, color=\"orange\")\n\nplt.xlim(-4.5, 4.5)\nplt.ylim(-4.5, 4.5)\nplt.show()"
      ]
    },
    {
      "cell_type": "markdown",
      "metadata": {},
      "source": [
        "The grids seem to align nicely. Also, there are exactly three purple cells\nbetween two orange cell edges, as intended.\nArguably, there are three categories of purple cells when compared to the orange grid.\nThe first category contains the purple cells at the center of each of the orange cells.\nSecondly we have the neighbours of these center cells and lastly we have the purple cells at the\nvertices of the orange cells.\nLet's start by coloring in the center cells.\n\n"
      ]
    },
    {
      "cell_type": "code",
      "execution_count": null,
      "metadata": {
        "collapsed": false
      },
      "outputs": [],
      "source": [
        "coarse_centroids = numpy.array([geom.centroid.xy for geom in coarse_shapes.geoms])\ncenter_cells = fine_grid.cell_at_point(coarse_centroids[:, :, 0])\ncenter_shapes = fine_grid.to_shapely(center_cells, as_multipolygon=True)\n\nplot_shapes(fine_shapes, linewidth=1, color=\"purple\")\nplot_shapes(center_shapes, fill=True, color=\"limegreen\", alpha=0.6)\nplot_shapes(coarse_shapes, linewidth=2, color=\"orange\")\n\nplt.xlim(-4.5, 4.5)\nplt.ylim(-4.5, 4.5)\nplt.show()"
      ]
    },
    {
      "cell_type": "markdown",
      "metadata": {},
      "source": [
        "Next, let's use these center cells to find their neighbours and color them too.\n\n"
      ]
    },
    {
      "cell_type": "code",
      "execution_count": null,
      "metadata": {
        "collapsed": false
      },
      "outputs": [],
      "source": [
        "center_neighbour_cells = fine_grid.neighbours(\n    center_cells\n)  # returns axes ('inital_cells', 'neighbours', 'xy') with shape (42, 6, 2)\ncenter_neighbour_cells = (\n    center_neighbour_cells.ravel()\n)  # flatten cell_ids to axes ('all_neigbours', 'xy') with shape (252, 2)\ncenter_neighbour_shapes = fine_grid.to_shapely(\n    center_neighbour_cells, as_multipolygon=True\n)\n\nplot_shapes(fine_shapes, linewidth=1, color=\"purple\")\nplot_shapes(center_shapes, fill=True, color=\"limegreen\", alpha=0.6)\nplot_shapes(center_neighbour_shapes, fill=True, color=\"sandybrown\", alpha=0.6)\nplot_shapes(coarse_shapes, linewidth=2, color=\"orange\")\n\nplt.xlim(-4.5, 4.5)\nplt.ylim(-4.5, 4.5)\nplt.show()"
      ]
    },
    {
      "cell_type": "markdown",
      "metadata": {},
      "source": [
        "Lastly, let's find coordinates of the vertices of the orange cells.\nWe then find what purple cells are a these coordinates and color them as well.\n\n"
      ]
    },
    {
      "cell_type": "code",
      "execution_count": null,
      "metadata": {
        "collapsed": false
      },
      "outputs": [],
      "source": [
        "vertices = coarse_grid.cell_corners(coarse_cell_ids).reshape((-1, 2))\nvertices_cells = fine_grid.cell_at_point(vertices)\nvertices_cells = numpy.unique(vertices_cells, axis=0)  # drop duplicate ids\nvertices_shapes = fine_grid.to_shapely(vertices_cells, as_multipolygon=True)\n\nplot_shapes(fine_shapes, linewidth=1, color=\"purple\")\nplot_shapes(center_shapes, fill=True, color=\"limegreen\", alpha=0.6)\nplot_shapes(center_neighbour_shapes, fill=True, color=\"sandybrown\", alpha=0.6)\nplot_shapes(vertices_shapes, fill=True, color=\"darkcyan\", alpha=0.6)\nplot_shapes(coarse_shapes, linewidth=2, color=\"orange\")\n\nplt.xlim(-4.5, 4.5)\nplt.ylim(-4.5, 4.5)\nplt.show()"
      ]
    },
    {
      "cell_type": "markdown",
      "metadata": {},
      "source": [
        "Now the purple grid is colored, based on it's relation to the orange grid.\n\n"
      ]
    }
  ],
  "metadata": {
    "kernelspec": {
      "display_name": "Python 3",
      "language": "python",
      "name": "python3"
    },
    "language_info": {
      "codemirror_mode": {
        "name": "ipython",
        "version": 3
      },
      "file_extension": ".py",
      "mimetype": "text/x-python",
      "name": "python",
      "nbconvert_exporter": "python",
      "pygments_lexer": "ipython3",
      "version": "3.8.17"
    }
  },
  "nbformat": 4,
  "nbformat_minor": 0
}