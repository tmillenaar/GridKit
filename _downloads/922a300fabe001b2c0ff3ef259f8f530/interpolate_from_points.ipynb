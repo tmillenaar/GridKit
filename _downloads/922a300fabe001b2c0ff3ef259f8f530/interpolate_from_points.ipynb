{
  "cells": [
    {
      "cell_type": "code",
      "execution_count": null,
      "metadata": {
        "collapsed": false
      },
      "outputs": [],
      "source": [
        "%matplotlib inline"
      ]
    },
    {
      "cell_type": "markdown",
      "metadata": {},
      "source": [
        "\n# Interpolate from points\n\nFill a BoundedGrid based on point data\n\n# Introduction\n\nIn this example a BoundedGrid is created from a set of points by interpolating between the points.\nFor this operation we need:\n\n#. locations of the points\n#. values of the points\n#. a grid to interpolate on\n\nIn this example, we simulate the point data using a 2d sinusoidal equation.\nWe sample the equation at pseudo-random locations.\n"
      ]
    },
    {
      "cell_type": "code",
      "execution_count": null,
      "metadata": {
        "collapsed": false
      },
      "outputs": [],
      "source": [
        "import numpy\n\nnumpy.random.seed(0)\nx = 100 * numpy.random.rand(100)\nnumpy.random.seed(1)\ny = 100 * numpy.random.rand(100)\nvalues = numpy.sin(x/(10*numpy.pi)) * numpy.sin(y/(10*numpy.pi))\npoints = numpy.array([x,y]).T"
      ]
    },
    {
      "cell_type": "markdown",
      "metadata": {},
      "source": [
        "This input data looks as follows:\n\n"
      ]
    },
    {
      "cell_type": "code",
      "execution_count": null,
      "metadata": {
        "collapsed": false
      },
      "outputs": [],
      "source": [
        "import matplotlib.pyplot as plt\nplt.scatter(x,y,c=values)\nplt.colorbar()\nplt.title(\"Simulated input values\")\nplt.show()"
      ]
    },
    {
      "cell_type": "markdown",
      "metadata": {},
      "source": [
        "Now we can create a grid and interpolate onto that grid.\n\n"
      ]
    },
    {
      "cell_type": "code",
      "execution_count": null,
      "metadata": {
        "collapsed": false
      },
      "outputs": [],
      "source": [
        "from gridkit import rect_grid\n\nempty_grid = rect_grid.RectGrid(dx=5, dy=5)\ndata_grid = rect_grid.BoundedRectGrid.interp_from_points(points, values, empty_grid)"
      ]
    },
    {
      "cell_type": "markdown",
      "metadata": {},
      "source": [
        "Currently the interpolation methods \"nearest\", \"linear\" and \"cubic\" are supported,\nbased on scpiy's ``NearestNDInterpolator``, ``LinearNDInterpolator`` and ``CloughTocher2DInterpolator``, respectively.\nHere we try each method and plot them next to each other to compare.\n\n"
      ]
    },
    {
      "cell_type": "code",
      "execution_count": null,
      "metadata": {
        "collapsed": false
      },
      "outputs": [],
      "source": [
        "fig, axes = plt.subplots(1, 3, sharey=True, figsize=(12, 5))\n\nfor ax, method in zip(axes, (\"nearest\", \"linear\", \"cubic\")):\n    import matplotlib.pyplot as plt\n    data_grid = rect_grid.BoundedRectGrid.interp_from_points(\n        points,\n        values,\n        empty_grid,\n        method=method,\n    )\n    ax.imshow(data_grid, extent=data_grid.mpl_extent)\n    ax.scatter(x, y, c=values, edgecolors='black')\n    ax.set_title(method, fontdict={'fontsize': 30})\n\nfig.tight_layout()\nplt.show()"
      ]
    },
    {
      "cell_type": "markdown",
      "metadata": {},
      "source": [
        "In this example, the `cubic` interpolation represents the original function the best, but this will differ per usecase.\nNote how the BoundedGrid has nodata values at the border in the \"linear\" and \"cubic\" cases.\nThe bounds of the grid are automatically chosen to align with the supplied grid and accommodate all points.\nCells of which the center is not within the convex hull of the data,\nbut are within the selected bounds, get a `nodata_value` as specified in ``interp_from_points`` (default numpy.nan).\n\n"
      ]
    }
  ],
  "metadata": {
    "kernelspec": {
      "display_name": "Python 3",
      "language": "python",
      "name": "python3"
    },
    "language_info": {
      "codemirror_mode": {
        "name": "ipython",
        "version": 3
      },
      "file_extension": ".py",
      "mimetype": "text/x-python",
      "name": "python",
      "nbconvert_exporter": "python",
      "pygments_lexer": "ipython3",
      "version": "3.8.16"
    }
  },
  "nbformat": 4,
  "nbformat_minor": 0
}