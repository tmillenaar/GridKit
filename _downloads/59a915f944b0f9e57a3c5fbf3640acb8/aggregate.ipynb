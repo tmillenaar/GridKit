{
  "cells": [
    {
      "cell_type": "markdown",
      "metadata": {},
      "source": [
        "\n\n# Aggregate from points\n\nGroup points into grid cells\n\n## TL;DR\n\n.. code-block:: python\n    :linenos:\n    :emphasize-lines: 5-7\n\n    import pandas\n    from gridkit import hex_grid\n\n    grid = hex_grid.HexGrid(size=1, shape=\"flat\")\n    cell_ids = grid.cell_at_point(points)\n    df = pandas.DataFrame({\"nr_points\": 0, \"grid_id\": list(cell_ids)})\n    occurrences = df.groupby(\"grid_id\").count()\n\n..\n\n\n## Introduction\n\nGrouping points in cells (here referred to as 'aggregation') is a common occurrence in spatial data processing.\nThis is often used to generate heatmaps, obtain statistics of the data or to reduce the size of the data for easier processing.\nBy grouping nearby points in the same cell, \nyou can for example calculate the standard deviation to get a feel for the variability of your data.\n\nIn this example we will count the number of points in a cell.\nThis gives a sense of the distribution of the points.\nOther common operations for this kind of exercise are: \nstd, mean, median, percentile, min and max.\n\n.. Tip ::\n\n    Groupby operations can also be done on polygons of arbitrary shape.\n    If this is of interest to you, have a look at [GeoPanda's sjoin](https://geopandas.org/en/stable/docs/reference/api/geopandas.sjoin.html)\n\n..\n\n\n## Generate input data\n\nLet's start by generating some points.\nThe data will be a set of points scattered around a circle to create \na dougnut-like shape.\nI'll plot the input here to show what it looks like.\n"
      ]
    },
    {
      "cell_type": "code",
      "execution_count": null,
      "metadata": {
        "collapsed": false
      },
      "outputs": [],
      "source": [
        "import matplotlib.pyplot as plt\n\nfrom gridkit.doc_utils import generate_2d_scatter_doughnut, plot_polygons\n\npoints = generate_2d_scatter_doughnut(num_points=2000, radius=4)\n\n# Create the scatter plot\nplt.scatter(*points.T, s=5)\nplt.xlabel(\"X\")\nplt.ylabel(\"Y\")\nplt.title(\"Doughnut with Gaussian Scattering\")\nplt.axis(\"equal\")\nplt.show()"
      ]
    },
    {
      "cell_type": "markdown",
      "metadata": {},
      "source": [
        "## Relate points to grid cells\n\nNow we can create a grid and aggregate our points onto that grid.\n\n"
      ]
    },
    {
      "cell_type": "code",
      "execution_count": null,
      "metadata": {
        "collapsed": false
      },
      "outputs": [],
      "source": [
        "from gridkit import hex_grid\n\ngrid = hex_grid.HexGrid(size=1, shape=\"flat\")\ncell_ids = grid.cell_at_point(points)"
      ]
    },
    {
      "cell_type": "markdown",
      "metadata": {},
      "source": [
        "## Count the points per cell\n\nThe ``cell_ids`` obtained in the previous step can be used to group the points.\nEach point with the same 'cell_id' will be regarded as being in the same 'bin'.\nWe can then do statistics on these bins. In our case we will count the number of points per bin.\nFor convenience, I will use a panda's groupby functionality for this.\n\n\n"
      ]
    },
    {
      "cell_type": "code",
      "execution_count": null,
      "metadata": {
        "collapsed": false
      },
      "outputs": [],
      "source": [
        "import pandas\n\ndf = pandas.DataFrame(\n    {\"nr_points\": 0, \"cell_id\": list(cell_ids)}\n)  # The 'nr_points' will contain the result after `.count()` is called\noccurrences = df.groupby(\"cell_id\").count()"
      ]
    },
    {
      "cell_type": "markdown",
      "metadata": {},
      "source": [
        "## Visualize the results\n\nNow we have the number of points per cell, let's obtain the corresponding cell shapes from the grid object and plot them.\n\n"
      ]
    },
    {
      "cell_type": "code",
      "execution_count": null,
      "metadata": {
        "collapsed": false
      },
      "outputs": [],
      "source": [
        "geoms = grid.to_shapely(occurrences.index.to_list())\n\nplot_polygons(geoms, occurrences, \"Oranges\")\nplt.title(\"Number of points per cell\")\nplt.show()"
      ]
    }
  ],
  "metadata": {
    "kernelspec": {
      "display_name": "Python 3",
      "language": "python",
      "name": "python3"
    },
    "language_info": {
      "codemirror_mode": {
        "name": "ipython",
        "version": 3
      },
      "file_extension": ".py",
      "mimetype": "text/x-python",
      "name": "python",
      "nbconvert_exporter": "python",
      "pygments_lexer": "ipython3",
      "version": "3.8.17"
    }
  },
  "nbformat": 4,
  "nbformat_minor": 0
}