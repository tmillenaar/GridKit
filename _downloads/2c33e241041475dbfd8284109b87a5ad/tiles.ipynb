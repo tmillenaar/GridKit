{
  "cells": [
    {
      "cell_type": "markdown",
      "metadata": {},
      "source": [
        "\n\n# Grid Tiles\n\nConvenient way to refer to a collection of cells in a grid.\n\n## Introduction\n\nThe Tile object is designed to be an easy way to refer to a collection of cells on a grid.\nIn order to create one, we supply it the grid is is associated with,\nthe starting cell id in the bottom left and the number of cells in x and in y direction.\n\nLet's plot the cells contained in a tile and show the tile outline.\n"
      ]
    },
    {
      "cell_type": "code",
      "execution_count": null,
      "metadata": {
        "collapsed": false
      },
      "outputs": [],
      "source": [
        "from matplotlib import pyplot as plt\nfrom shapely.geometry import Polygon\n\nfrom gridkit import HexGrid, Tile\nfrom gridkit.doc_utils import plot_polygons\n\ngrid = HexGrid(size=1, offset=(0.3, 0.5), rotation=18)\n\ntile = Tile(\n    grid=grid,\n    start_id=[5, 5],\n    nx=8,\n    ny=5,\n)\n\ngeoms = grid.to_shapely(tile.indices, as_multipolygon=True)\n\nbbox = Polygon(tile.corners())\nplot_polygons(geoms, fill=True, linewidth=2, alpha=0.3)\nplot_polygons(bbox, fill=False, linewidth=2, colors=\"red\")\nplt.show()"
      ]
    },
    {
      "cell_type": "markdown",
      "metadata": {},
      "source": [
        "Note that the outline of the tile cuts through the cells on the left and right,\nand note how the left side is missing coverage of some half-cells and on the right\nsome cells extend beyond the border. This is deliberate and is designed in a way where the\ntwo neighboring tiles don't share any cells.\nTo demonstrate this, let's plot several tiles next to each other:\n\n\n"
      ]
    },
    {
      "cell_type": "code",
      "execution_count": null,
      "metadata": {
        "collapsed": false
      },
      "outputs": [],
      "source": [
        "tiles = [\n    Tile(grid, [-3, 5], nx=8, ny=5),  # 0\n    Tile(grid, [5, 5], nx=8, ny=5),  # 1\n    Tile(grid, [5 + 8, 5], nx=8, ny=5),  # 2\n    Tile(grid, [-1, 0], nx=10, ny=5),  # 3\n    Tile(grid, [9, 0], nx=10, ny=5),  # 4\n]\n\nbboxes = [Polygon(t.corners()) for t in tiles]\nfor i, (tile, color) in enumerate(\n    zip(tiles, [\"peru\", \"deepskyblue\", \"orange\", \"teal\", \"purple\"])\n):\n    geoms = tile.grid.to_shapely(\n        tile.indices, as_multipolygon=True\n    )  # Note how I call tile.grid.to_shapely, read on for explenation\n    plot_polygons(geoms, fill=True, linewidth=2, alpha=0.3, colors=color)\n    center = tile.corners().mean(axis=0)\n    plt.text(*center, i, size=30)\nplot_polygons(bboxes, fill=False, linewidth=2, colors=\"red\")\nplt.show()"
      ]
    },
    {
      "cell_type": "markdown",
      "metadata": {},
      "source": [
        "This is set up such that multiple tiles can cover a larger plane together which\nis usefull for distributed computing, though GridKit does not handle any of this\ndistribution itself. It is up to the user to use this tileability together with a tool\nsuch as Dask or Multiporcessing.\nThis of course only works well if all tiles are based off the same grid.\n\nNote that every Tile has it's own copy of the grid. If we mutate the original grid,\nthe .grid associated with each tile remains unaffected.\nBe mindful of what grid you refer to. It is easy to make the mistake where\nthe original grid is modified and the indices of the tile are used with the\n``grid`` variable instead of tile.grid.\nHere I will show what it might look like if you use the tile indices on a different grid:\n\n\n"
      ]
    },
    {
      "cell_type": "code",
      "execution_count": null,
      "metadata": {
        "collapsed": false
      },
      "outputs": [],
      "source": [
        "grid.rotation -= 5\n\nbboxes = [Polygon(t.corners()) for t in tiles]\nfor i, (tile, color) in enumerate(\n    zip(tiles, [\"peru\", \"deepskyblue\", \"orange\", \"teal\", \"purple\"])\n):\n    geoms = grid.to_shapely(\n        tile.indices, as_multipolygon=True\n    )  # Note how I call grid.to_shapely and not tile.grid.to_shapely!\n    plot_polygons(geoms, fill=True, linewidth=2, alpha=0.3, colors=color)\n    center = tile.corners().mean(axis=0)\n    plt.text(*center, i, size=30)\nplot_polygons(bboxes, fill=False, linewidth=2, colors=\"red\")\nplt.show()"
      ]
    }
  ],
  "metadata": {
    "kernelspec": {
      "display_name": "Python 3",
      "language": "python",
      "name": "python3"
    },
    "language_info": {
      "codemirror_mode": {
        "name": "ipython",
        "version": 3
      },
      "file_extension": ".py",
      "mimetype": "text/x-python",
      "name": "python",
      "nbconvert_exporter": "python",
      "pygments_lexer": "ipython3",
      "version": "3.8.18"
    }
  },
  "nbformat": 4,
  "nbformat_minor": 0
}