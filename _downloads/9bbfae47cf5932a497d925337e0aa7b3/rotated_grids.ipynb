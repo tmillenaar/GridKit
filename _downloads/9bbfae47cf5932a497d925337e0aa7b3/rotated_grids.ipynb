{
  "cells": [
    {
      "cell_type": "markdown",
      "metadata": {},
      "source": [
        "\n\n# Rotating grids\n\nRotation of grids\n\n## Introduction\n\nGrids can be rotated around the origin.\nThis means they don't have to align with the axes of the chosen coordinate refrence system,\nbut can be skewed. This example shows what that looks like.\nLet's first create a simple grid.\nThe rotation can be set when creating a new grid.\n"
      ]
    },
    {
      "cell_type": "code",
      "execution_count": null,
      "metadata": {
        "collapsed": false
      },
      "outputs": [],
      "source": [
        "import numpy\nfrom matplotlib import pyplot as plt\n\nfrom gridkit import TriGrid\nfrom gridkit.doc_utils import plot_polygons\n\ngrid = TriGrid(size=1, rotation=20)\n\nids_x = ids_y = numpy.arange(10)\nxx, yy = numpy.meshgrid(ids_x, ids_y)\nids = numpy.stack([xx.ravel(), yy.ravel()]).T\n\ncentroids = grid.centroid(ids)\ngeometries = grid.to_shapely(ids, as_multipolygon=True)\n\n# Plot centroids\nplt.scatter(*centroids.T, marker=\"x\")\nplot_polygons(geometries.geoms, colors=\"black\", fill=False, linewidth=2)\nplt.show()"
      ]
    },
    {
      "cell_type": "markdown",
      "metadata": {},
      "source": [
        "Note how the grid was rotated counter-clockwise by 20 degrees.\nIf you want to rotate clockwise by 20 degrees instead,\nsupply a negative rotation of -20.\n\nLet's test 'cell_at_point' with the rotated grid.\nWe can create a bunch of points in and around the area we selected and color them based on their id.\n\n\n"
      ]
    },
    {
      "cell_type": "code",
      "execution_count": null,
      "metadata": {
        "collapsed": false
      },
      "outputs": [],
      "source": [
        "b = geometries.bounds\npx = numpy.linspace(b[0], b[2], 200)\npy = numpy.linspace(b[1], b[3], 200)\nxx, yy = numpy.meshgrid(px, py)\npoints = numpy.stack([xx.ravel(), yy.ravel()]).T\npoint_ids = grid.cell_at_point(points)\ncolors = point_ids.index[:, 0] * 2 + point_ids.index[:, 1]\n\n# Plot points in cell\nplt.scatter(*points.T, s=3, c=colors, cmap=\"prism\")\nplot_polygons(geometries.geoms, colors=\"black\", fill=False, linewidth=2)\nplt.show()"
      ]
    },
    {
      "cell_type": "markdown",
      "metadata": {},
      "source": [
        "Naturally, when the grid is rotated 90 degrees the horizontal lines turn to vertical lines,\nbut this can also be achived by rotating 30 degrees.\nThis is of course a feature of trigangular grids.\nFor comparisson, let's show a grid for the rotations of 0, 30, 60 and 90 degrees.\n\n\n"
      ]
    },
    {
      "cell_type": "code",
      "execution_count": null,
      "metadata": {
        "collapsed": false
      },
      "outputs": [],
      "source": [
        "ids_x = ids_y = numpy.arange(7)\nxx, yy = numpy.meshgrid(ids_x, ids_y)\nids = numpy.stack([xx.ravel(), yy.ravel()]).T\n\n\ndef plot_rotated_grid(rotation, ax):\n    grid = TriGrid(size=1, rotation=rotation)\n    geometries = grid.to_shapely(ids, as_multipolygon=True)\n    plot_polygons(geometries.geoms, colors=\"black\", fill=False, linewidth=2, ax=ax)\n\n\nfig, axes = plt.subplots(2, 2)\nfor rotation, ax in zip([0, 30, 60, 90], axes.ravel()):\n    plot_rotated_grid(rotation, ax)\n    ax.set_aspect(\"equal\")\nplt.show()"
      ]
    },
    {
      "cell_type": "markdown",
      "metadata": {},
      "source": [
        "The two images on the left have continuous lines running horizontally,\nwhereas the images on the right have the continuous lines running vertically.\n\nA careful observer might notice that the x and y axes show different values for different rotation.\nThe same ids are used for all rotations, but since the grid is rotated the ids are at different locations.\nThis means ids from a grid with a different rotation are not compatible.\nThis means also that even though the rotations of 0 and 60 result in a visually similar grid,\nthey are not 'aligned'.\n\n.. Warning ::\n\n    The operation ``cells_in_bounds`` on rotated grids, as well as any rotated ``BoudedGrid`` is not supported.\n    The ``bounds`` for these operations represent a rectangle that is aligned with the coordinate reference system.\n    It is not obvious how this should relate to a rotated grid,\n    as the cells and the bounds will not align and thus the cells will be cut by the bounds.\n    If this is to be supported, a clear definition will have to be created about what it means\n    for a rotated grid to be aligned with 'straight' bounds.\n\n\n"
      ]
    }
  ],
  "metadata": {
    "kernelspec": {
      "display_name": "Python 3",
      "language": "python",
      "name": "python3"
    },
    "language_info": {
      "codemirror_mode": {
        "name": "ipython",
        "version": 3
      },
      "file_extension": ".py",
      "mimetype": "text/x-python",
      "name": "python",
      "nbconvert_exporter": "python",
      "pygments_lexer": "ipython3",
      "version": "3.9.20"
    }
  },
  "nbformat": 4,
  "nbformat_minor": 0
}