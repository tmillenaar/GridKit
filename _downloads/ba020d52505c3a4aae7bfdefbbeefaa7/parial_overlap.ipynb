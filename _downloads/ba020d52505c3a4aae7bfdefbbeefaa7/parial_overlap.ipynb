{
  "cells": [
    {
      "cell_type": "markdown",
      "metadata": {},
      "source": [
        "\n\n# Partial overlap\n\nMerge rasters with different spatial extent\n\n## Introduction\n\nSince each BoundedGrid in GridKit has information on the bounds,\nmultiple grids can be combined in a way where their spatial extend is taken into account.\nBasic mathematical operations were shown in the example `ndvi.py <example ndvi>`,\nbut in that example the bands were fully overlapping.\nIn this example we are combining grids that are partially overlapping.\nTo combine the grids we will be taking the mean value for the cells that are shared between the grids.\n\nIn order to keep the scope of this test limited, three slices of tha same geotiff are used.\nIn most real cases, it is likely that these would be separate datasets that don't perfectly match.\nNote that in these cases, all datasets need to be resampled onto the same grid.\nAlso, since all slices in this example are from the same dataset,\nthe values in the overlapping sections will be identical, making for seamless fusing of the grids.\nIf the values in the overlapping area differ a lot between the datasets,\nthe seams won't be as smooth. \n\nThat said, let's read in the data.\nThe source of the DEM data used in this example is:\nhttps://www.eea.europa.eu/data-and-maps/data/copernicus-land-monitoring-service-eu-dem\n"
      ]
    },
    {
      "cell_type": "code",
      "execution_count": null,
      "metadata": {
        "collapsed": false
      },
      "outputs": [],
      "source": [
        "from gridkit import read_raster\n\npath_dem = \"../../tests/data/alps_dem.tiff\"\n\ndem1 = read_raster(path_dem, bounds=(29040, 167500, 29100, 167620))\ndem2 = read_raster(path_dem, bounds=(29070, 167470, 29150, 167580))\ndem3 = read_raster(path_dem, bounds=(29080, 167520, 29160, 167600))"
      ]
    },
    {
      "cell_type": "markdown",
      "metadata": {},
      "source": [
        "Let's group them for convenience\n\n\n"
      ]
    },
    {
      "cell_type": "code",
      "execution_count": null,
      "metadata": {
        "collapsed": false
      },
      "outputs": [],
      "source": [
        "dem_slices = [dem1, dem2, dem3]"
      ]
    },
    {
      "cell_type": "markdown",
      "metadata": {},
      "source": [
        "And then plot these data slices individually to see what we are dealing with\n\n\n"
      ]
    },
    {
      "cell_type": "code",
      "execution_count": null,
      "metadata": {
        "collapsed": false
      },
      "outputs": [],
      "source": [
        "import matplotlib.pyplot as plt\n\nfig, axes = plt.subplots(1, 3)\nfor ax, dem in zip(axes, dem_slices):\n    ax.imshow(dem, cmap=\"terrain\", extent=dem.mpl_extent)\n\nfig.tight_layout()\nplt.show()"
      ]
    },
    {
      "cell_type": "markdown",
      "metadata": {},
      "source": [
        "It is hard to see from these three separate images which parts of the slices overlap.\nIf we visualize the ``count`` per cell, we can get a better idea on the distribution of the data.\n\n\n"
      ]
    },
    {
      "cell_type": "code",
      "execution_count": null,
      "metadata": {
        "collapsed": false
      },
      "outputs": [],
      "source": [
        "import gridkit\n\ndem_count = gridkit.count(dem_slices)\n\nplt.imshow(dem_count, extent=dem_count.mpl_extent)\nplt.show()"
      ]
    },
    {
      "cell_type": "markdown",
      "metadata": {},
      "source": [
        "Now we have an idea on what the spatial distribution of the data looks like,\nlet's take the mean of the datasets to combine them into one.\nFor each cell, this will take the mean value of all grids that cover it.\n\n\n"
      ]
    },
    {
      "cell_type": "code",
      "execution_count": null,
      "metadata": {
        "collapsed": false
      },
      "outputs": [],
      "source": [
        "dem_mean = gridkit.mean(dem_slices)\n\nplt.imshow(dem_mean, cmap=\"terrain\", extent=dem_mean.mpl_extent)\nplt.show()"
      ]
    },
    {
      "cell_type": "markdown",
      "metadata": {},
      "source": [
        "Beautiful, The data is merged!\n\nIn this case of course all values of the slices are the same, so the seams are perfectly smooth.\nWe can see the seems if we offset the values of the different slices a bit.\n\n\n"
      ]
    },
    {
      "cell_type": "code",
      "execution_count": null,
      "metadata": {
        "collapsed": false
      },
      "outputs": [],
      "source": [
        "dem_mean = gridkit.mean([dem1 - 100, dem2, dem3 + 100])\n\nplt.imshow(dem_mean, cmap=\"terrain\", extent=dem_mean.mpl_extent)\nplt.show()"
      ]
    },
    {
      "cell_type": "markdown",
      "metadata": {},
      "source": [
        "Now the seams become visible.\nIf this is a problem for your dataset,\nconsider cleaning the data before merging or smoothing the data after merging.\n\nFor smoothing the data afterwards, we can use scipy's gaussian_filter.\nNote that scipy treats our grid object as a numpy array,\nso we need to update the existing grid with the array returned from the scipy function.\nA larger convolution window (sigma) will result in more aggressive filtering.\nThis will result in smoother seams between slices,\nbut also remove high-frequency signal from your data.\nWhen merging tiles therefore, a tradeoff will need to be reached that will differ per usecase.\n\n\n"
      ]
    },
    {
      "cell_type": "code",
      "execution_count": null,
      "metadata": {
        "collapsed": false
      },
      "outputs": [],
      "source": [
        "from scipy.ndimage import gaussian_filter\n\nfiltered_data = gaussian_filter(dem_mean, sigma=1)\ndem_filtered = dem_mean.update(filtered_data)\n\nplt.imshow(dem_filtered, cmap=\"terrain\", extent=dem_mean.mpl_extent)\nplt.show()"
      ]
    },
    {
      "cell_type": "markdown",
      "metadata": {},
      "source": [
        ".. Tip ::\n\n   You may have noticed that area's containing NaNs get exaggerated after filtering.\n   Scipy's implementation of ``gaussian_filter`` does not take NaNs into account.\n   This means each pixel where the kernal contains a NaN will become NaN too.\n   If this is a problem for your dataset,\n   have a look at [astropy's implementation](https://docs.astropy.org/en/stable/convolution/).\n\n..\n\n\n## Nodata values\n\nFor each grid, the nodata value of that grid is also taken into account.\nThis means that values outside of the original extent of each respective data grid are not considered in the calculation.\nIf the data grids have different nodata_values, this still works, for each grid's nodata_value is considered separately.\nIn that scenario the resulting product will have the nodata_value of the first grid.\n\n"
      ]
    }
  ],
  "metadata": {
    "kernelspec": {
      "display_name": "Python 3",
      "language": "python",
      "name": "python3"
    },
    "language_info": {
      "codemirror_mode": {
        "name": "ipython",
        "version": 3
      },
      "file_extension": ".py",
      "mimetype": "text/x-python",
      "name": "python",
      "nbconvert_exporter": "python",
      "pygments_lexer": "ipython3",
      "version": "3.8.17"
    }
  },
  "nbformat": 4,
  "nbformat_minor": 0
}