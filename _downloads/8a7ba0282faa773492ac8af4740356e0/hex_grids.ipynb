{
  "cells": [
    {
      "cell_type": "markdown",
      "metadata": {},
      "source": [
        "\n\n# Hexagon grids\n\nAdjusting shapes and sizes\n\n## Introduction\n\nIn this example a variety of hexagonal grids is created and compared.\nThe goal of this exercise is to familiarize the reader with the various configurations of hexagonal grids\nand how they compare to one another.\n\nLet's create a grid and obtain the polygons in some area of interest.\n"
      ]
    },
    {
      "cell_type": "code",
      "execution_count": null,
      "metadata": {
        "collapsed": false
      },
      "outputs": [],
      "source": [
        "from gridkit import HexGrid\n\n# create a grid\nmain_grid = HexGrid(size=10, shape=\"pointy\")\n\n# define an area of interest, slightly larger than what we want to plot\nbounds = (-20, -20, 20, 20)\n\n\ndef get_shapes_in_bounds(grid, bounds):\n    \"\"\"Return the cells of a grid in the specified bounds as a multipolygon\"\"\"\n    aligned_bounds = grid.align_bounds(bounds)\n    cell_ids = grid.cells_in_bounds(aligned_bounds)\n    return grid.to_shapely(cell_ids, as_multipolygon=True)\n\n\nmain_shapes = get_shapes_in_bounds(main_grid, bounds)"
      ]
    },
    {
      "cell_type": "markdown",
      "metadata": {},
      "source": [
        "Now we have shapes representing some of the cells in the grid.\nLet's plot the shapes to see what we are dealing with.\n\n"
      ]
    },
    {
      "cell_type": "code",
      "execution_count": null,
      "metadata": {
        "collapsed": false
      },
      "outputs": [],
      "source": [
        "import matplotlib.pyplot as plt\n\n\ndef plot_shapes(shapes, color=\"orange\", **kwargs):\n    \"\"\"Simple function to plot polygons with matplotlib\"\"\"\n    for geom in shapes.geoms:\n        plt.plot(*geom.exterior.xy, color=color, **kwargs)\n\n\n# plot the cell outlines\nplot_shapes(main_shapes, linewidth=2)\nplt.grid()\nplt.show()"
      ]
    },
    {
      "cell_type": "markdown",
      "metadata": {},
      "source": [
        "In this plot the gridlines are shown in the background to highlight how the grid is positioned in space\nWe can modify this using the 'offset'.\n\n## Shifting grids\n\nLet's shift the whole grid vertically to center it around coordinate (0,0)\nAlso, let's zoom in a bit to the center\n\n"
      ]
    },
    {
      "cell_type": "code",
      "execution_count": null,
      "metadata": {
        "collapsed": false
      },
      "outputs": [],
      "source": [
        "main_grid._offset = (0, main_grid.dy / 2)\nmain_shapes = get_shapes_in_bounds(main_grid, bounds)\n\n# plot the cell outlines\nplot_shapes(main_shapes, linewidth=2)\nplt.xlim(-15, 15)\nplt.ylim(-15, 15)\nplt.grid()\nplt.show()"
      ]
    },
    {
      "cell_type": "markdown",
      "metadata": {},
      "source": [
        "We can create a second grid and play with the size and offset\nIf we shift the grid a deliberate amount so that it has a vertex on the center,\nit creates interesting patterns with respect to the grid we just created.\nFor this we need to shift it half a 'dx' horizontally and one radius (distance from center to corner) vertically,\nwith respect to the main grid.\n\n"
      ]
    },
    {
      "cell_type": "code",
      "execution_count": null,
      "metadata": {
        "collapsed": false
      },
      "outputs": [],
      "source": [
        "shifted_grid = HexGrid(\n    size=10, shape=\"pointy\", offset=(main_grid.dx / 2, (main_grid.dy / 2) + main_grid.r)\n)\nshifted_shapes = get_shapes_in_bounds(shifted_grid, bounds)\n\n# plot the cell outlines\nplot_shapes(main_shapes, linewidth=2)\nplot_shapes(shifted_shapes, linewidth=2, color=\"purple\")\nplt.xlim(-15, 15)\nplt.ylim(-15, 15)\nplt.show()"
      ]
    },
    {
      "cell_type": "markdown",
      "metadata": {},
      "source": [
        "Here we were able to use the dimensions of the already existing main_grid to determine the offset\nof the shifted grid. It is often more convenient to first create a grid and then shift it,\nthan it is to calculate the desired shift beforehand. The advantage of determining the offset later\nis that we can use the already available `dx`, `dy` and `r` properties of the created grid.\n\n## Grid sizes\n\nFinally, let's play with the size of the grid. If we keep the grids centered around zero but vary the size,\nwe also obtain interesting patterns.\n\n"
      ]
    },
    {
      "cell_type": "code",
      "execution_count": null,
      "metadata": {
        "collapsed": false
      },
      "outputs": [],
      "source": [
        "half_size_grid = HexGrid(\n    size=main_grid.dx / 2, offset=(0, main_grid.dy / (2 * 2)), shape=\"pointy\"\n)\nthird_size_grid = HexGrid(\n    size=main_grid.dx / 3, offset=(0, main_grid.dy / (2 * 3)), shape=\"pointy\"\n)\nhalf_size_shapes = get_shapes_in_bounds(half_size_grid, bounds)\nthird_size_shapes = get_shapes_in_bounds(third_size_grid, bounds)\n\n# plot the cell outlines\nplot_shapes(third_size_shapes, linewidth=2, color=\"purple\")\nplot_shapes(half_size_shapes, linewidth=2, color=\"red\")\nplot_shapes(main_shapes, linewidth=2)\nplt.xlim(-12, 12)\nplt.ylim(-12, 12)\nplt.show()"
      ]
    },
    {
      "cell_type": "markdown",
      "metadata": {},
      "source": [
        "Grids that overlap and intersect in predictable ways can be utilized to select particular cells of interest.\nSee `example selecting cells` for a example where this is done.\n\n"
      ]
    }
  ],
  "metadata": {
    "kernelspec": {
      "display_name": "Python 3",
      "language": "python",
      "name": "python3"
    },
    "language_info": {
      "codemirror_mode": {
        "name": "ipython",
        "version": 3
      },
      "file_extension": ".py",
      "mimetype": "text/x-python",
      "name": "python",
      "nbconvert_exporter": "python",
      "pygments_lexer": "ipython3",
      "version": "3.8.18"
    }
  },
  "nbformat": 4,
  "nbformat_minor": 0
}