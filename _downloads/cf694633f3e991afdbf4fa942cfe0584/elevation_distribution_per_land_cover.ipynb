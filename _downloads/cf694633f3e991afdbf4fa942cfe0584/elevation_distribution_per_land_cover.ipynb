{
  "cells": [
    {
      "cell_type": "markdown",
      "metadata": {},
      "source": [
        "\n# Combining land cover and DEM\n\nCreate an elevation histogram for a particular land cover\n\nLand cover data source: https://land.copernicus.eu/pan-european/corine-land-cover/clc2018\n\nDEM data source: https://www.eea.europa.eu/data-and-maps/data/copernicus-land-monitoring-service-eu-dem\n\n## Reading and resampling\n\nWe want to be able to relate cells from one dataset to those of another.\nTo do this the grids need to be 'aligned'.\nWe can do this by resampling both datasets onto the same grid.\nThe simplest way to achive this is to resample one dataset onto the grid of the other dataset.\nIn order to maintain the DEM's higher resolution, we resample the land cover dataset onto the DEM's grid.\n\nThe datasets can be large and we may not want to read the whole dataset into RAM if we don't have to.\nWe can supply a bounding box when reading the data to only read the data we need.\nIf this bounding box is not defined in the coordinates native to the file, \n``bounds_crs`` can be supplied to transform the bounds before reading.\nWe can make use of this to read out a crop of the same area form different files.\n\n.. Note ::\n    After reading a crop from a different CRS, the area is often not an exact match.\n    When bounds are transformed to a different CRS, the bounds are warped.\n    A bounding box is a rectagnle in it's original CRS, \n    but due to this warping it is often a paralellogram in a different CRS.\n    In the current implementation, the furthest extent of the paralellogram define what data to crop.\n    This means that more data is read when the bounds are warped more severely after the transformation.\n"
      ]
    },
    {
      "cell_type": "code",
      "execution_count": null,
      "metadata": {
        "collapsed": false
      },
      "outputs": [],
      "source": [
        "from gridkit.io import read_geotiff\nimport matplotlib.pyplot as plt\nimport numpy\n\n# Define the bounding box of interest and the corresponding CRS\nbounds_matterhorn = (817723, 5826030, 964482, 5893982)\nbounds_crs = 3857\n\n# Define the paths to the data files\npath_landuse = \"../../tests/data/alps_landuse.tiff\"\npath_dem = \"../../tests/data/alps_dem.tiff\"\n\n# Read a part of the digital elevation model (DEM) and set to desired CRS\ndem = read_geotiff(path_dem, bounds=bounds_matterhorn, bounds_crs=bounds_crs)\n\n# Read the same part of the landuse dataset and resample onto the DEM\nlanduse = (\n    read_geotiff(path_landuse, bounds=bounds_matterhorn, bounds_crs=bounds_crs)\n    .resample(dem, method=\"nearest\")\n)"
      ]
    },
    {
      "cell_type": "markdown",
      "metadata": {},
      "source": [
        "The resampling ``method`` 'nearest' was used to keep the land cover values discrete.\n\n.. Tip ::\n    If you are unsure if your grids are aligned, you can put the resample step inside an if-statement.\n    For this example that could look like so:\n\n```python\nif not dem.is_aligned_with(landuse):\n    landuse = landuse.resample(dem, method=\"nearest\")\n```\nTo get a feel for the area, I will plot the datasets side by side.\n\n\n"
      ]
    },
    {
      "cell_type": "code",
      "execution_count": null,
      "metadata": {
        "collapsed": false
      },
      "outputs": [],
      "source": [
        "# Initialize figure for plotting the dem and landuse datasets\nfig, axes = plt.subplots(2, constrained_layout = True)\n\n# Plot DEM\nmpl_extent = (dem.bounds[0], dem.bounds[2], dem.bounds[1], dem.bounds[3])\nim_dem = axes[0].imshow(dem, cmap=\"gist_earth\", extent=mpl_extent, aspect=\"auto\")\nfig.colorbar(im_dem, ax=axes[0], fraction=0.04, pad=0.01, label=\"Elevation [m]\")\naxes[0].set_ylabel(\"lat\")\naxes[0].set_title(\"Elevation [m]\", fontsize=10)\n\n# Plot Landuse\nmpl_extent = (landuse.bounds[0], landuse.bounds[2], landuse.bounds[1], landuse.bounds[3])\nim_landuse = axes[1].imshow(landuse, cmap=\"tab20c_r\", extent=mpl_extent, aspect=\"auto\", vmin=0, vmax=50)\nfig.colorbar(im_landuse, ax=axes[1], fraction=0.04, pad=0.01, label=\"Landuse value\")\naxes[1].set_xlabel(\"lon\")\naxes[1].set_ylabel(\"lat\")\naxes[1].set_title(\"Landuse\", fontsize=10)\n\nplt.show()"
      ]
    },
    {
      "cell_type": "markdown",
      "metadata": {},
      "source": [
        "To get a rough feeling for the land cover plot,\nthe orange shades roughly correspond to snow, ice and bare rock\nand the green shades roughly correspond to vegetation.\nTo inspect the land cover categories with better accuracy, \nvisit the source of the data mentioned a the top of this page.\nYou may notice the grey areas around the land cover dataset.\nThese are nodata values used to fill empty areas during the resampling step.\n\n## Relating cells between datasets\n\nTo get the elevation distribution for a particular land cover we need to:\n\n #. determine what cells hava a particular land cover\n #. obtain the elevation values for these cells\n #. plot the histogram\n\nThe first step is as simple as using a comparison operation on the grid.\n``landuse == 1`` will return the IDs of all cells where the land cover value is equal to 1.\nSince the landuse dataset has been resampled onto the grid of the DEM, the grids are 'aligned'.\nThis means we can simply use the IDs obtained from the landuse dataset to obtain the values of the DEM.\nWhen these two steps are combined in one line, it looks like this:\n\n\n"
      ]
    },
    {
      "cell_type": "code",
      "execution_count": null,
      "metadata": {
        "collapsed": false
      },
      "outputs": [],
      "source": [
        "# Determine elevation for 'broad-leaved', 'mixed' and 'coniferous' forests, with landuse vales 23, 24 ,25, respectively\nbroad_leaved_forest_heights = dem.value(landuse == 23)\nconifer_forest_heights = dem.value(landuse == 24)\nmixed_forest_heights = dem.value(landuse == 25)\ngrass_and_shrub_heights = dem.value(numpy.vstack([landuse == 26, landuse == 29]))\nbare_rock_heights = dem.value(landuse == 31)\nglacier_heights = dem.value(landuse == 34)"
      ]
    },
    {
      "cell_type": "markdown",
      "metadata": {},
      "source": [
        ".. Tip ::\n   Since the IDs returned by the comparison operation are numpy arrays, we can combine them using numpy's vstack.\n\nPlotting the histogram distribution of the various land covers gives the following plot:\n\n\n"
      ]
    },
    {
      "cell_type": "code",
      "execution_count": null,
      "metadata": {
        "collapsed": false
      },
      "outputs": [],
      "source": [
        "# Plot forest histograms\nfig, ax = plt.subplots(1)\nbins = list(range(dem.min(), dem.max(), 50))\nax.hist(grass_and_shrub_heights, bins=bins, color=\"palegreen\", alpha=0.5, label=\"Grass and shrubs\", orientation=\"horizontal\")\nax.hist(bare_rock_heights, bins=bins, color=\"lightsalmon\", alpha=0.5, label=\"Bare rock\", orientation=\"horizontal\")\nax.hist(glacier_heights, bins=bins, color=\"lightseagreen\", alpha=0.5, label=\"Glaciers and perma-snow\", orientation=\"horizontal\")\nax.hist(conifer_forest_heights, bins=bins, color=\"darkgreen\", alpha=0.5, label=\"Coniferous forest\", orientation=\"horizontal\")\nax.hist(mixed_forest_heights, bins=bins, color=\"yellowgreen\", alpha=0.5, label=\"Mixed forest\", orientation=\"horizontal\")\nax.hist(broad_leaved_forest_heights, bins=bins, color=\"orange\", alpha=0.5, label=\"Broad-leaved forest\", orientation=\"horizontal\")\nax.legend()\nax.set_xlabel(\"Nr. of cells per elevation bin\")\nax.set_ylabel(\"Elevation [m]\")\nax.set_title(\"Alpine land cover histogram\", fontsize=10)\nplt.show()"
      ]
    }
  ],
  "metadata": {
    "kernelspec": {
      "display_name": "Python 3",
      "language": "python",
      "name": "python3"
    },
    "language_info": {
      "codemirror_mode": {
        "name": "ipython",
        "version": 3
      },
      "file_extension": ".py",
      "mimetype": "text/x-python",
      "name": "python",
      "nbconvert_exporter": "python",
      "pygments_lexer": "ipython3",
      "version": "3.8.17"
    }
  },
  "nbformat": 4,
  "nbformat_minor": 0
}