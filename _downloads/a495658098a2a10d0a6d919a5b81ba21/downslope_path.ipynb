{
  "cells": [
    {
      "cell_type": "markdown",
      "metadata": {},
      "source": [
        "\n# Downslope path\n\nUse a DEM to determine the downslope path from a point on the DEM to the edge.\n\nDEM data source: https://www.eea.europa.eu/data-and-maps/data/copernicus-land-monitoring-service-eu-dem\n\n## Introduction\n\nIn this example the downslope path is found from a given point on a DEM.\nThis can be conceptualized as the path water would flow donw from a given source.\nThis algorithm does not stop at a local minimum, but continues when the edge of the DEM is reached.\nThe path can therefore be best conceptualized as a stram, possibly with small lakes, rather than a single droplet.\n\n## Method\n\nThis is done by iteratively finding the neighbour with the lowest elevation.\n\nIn this example, the flow is as follows:\n 1. A cell is supplied to the \"downslope_path\" function\n 2. The neighbouring cells are obtained\n 3. These cells are added to a list containing all neighbours along the path so far\n 4. The neighbour along the path so far with the lowest elevation is added to the path, at which point we start again at 1.\n\nThe loop stops when NaNs are encountered, which happens when the border of the DEM crop is reached.\nThis is of course assuming there are no nodata_values in the DEM.\n\nFirst let's import the dependencies and read in the DEM.\n"
      ]
    },
    {
      "cell_type": "code",
      "execution_count": null,
      "metadata": {
        "collapsed": false
      },
      "outputs": [],
      "source": [
        "import numpy\nfrom gridkit.io import read_geotiff\nimport matplotlib.pyplot as plt\n\ndem = read_geotiff(\"../../tests/data/alps_dem.tiff\", bounds=(29200, 167700, 29800, 168100))"
      ]
    },
    {
      "cell_type": "markdown",
      "metadata": {},
      "source": [
        "Next, set up the recursive function and the required empty lists.\n\n.. Warning ::\n   Python's recursion limit can be reached with this approach for paths longer than shown here.\n   While you can raise this limit using `sys.setrecursionlimit`, you may want to reconsider the approach and use a while-loop instead of recursion.\n\n"
      ]
    },
    {
      "cell_type": "code",
      "execution_count": null,
      "metadata": {
        "collapsed": false
      },
      "outputs": [],
      "source": [
        "visited_cells = []\nall_neighbours = []\nneighbour_values = []\ndef downslope_path(cell_id):\n\n    visited_cells.append(tuple(cell_id))\n\n    # add new neigbours and their values to their respective lists\n    neighbours = dem.neighbours(cell_id, connect_corners=True)\n    for cell, value in zip(neighbours, dem.value(neighbours)):\n        cell = tuple(cell)\n        if not cell in visited_cells and not cell in all_neighbours:\n            all_neighbours.append(cell)\n            neighbour_values.append(value)\n\n    # stop when we encounter nodata values, assuming these only occur byound the bounds of the DEM crop\n    if dem.nodata_value in neighbour_values:\n        return\n\n    # determine the next cell and remove it from the neighbour-lists\n    min_id = numpy.argmin(neighbour_values)\n    next_cell = all_neighbours[min_id]\n    all_neighbours.pop(min_id)\n    neighbour_values.pop(min_id)\n        \n    return downslope_path(next_cell)"
      ]
    },
    {
      "cell_type": "markdown",
      "metadata": {},
      "source": [
        "Determine the starting cell and call the function\n\n"
      ]
    },
    {
      "cell_type": "code",
      "execution_count": null,
      "metadata": {
        "collapsed": false
      },
      "outputs": [],
      "source": [
        "start_cell_id = dem.cell_at_point((29330, 167848))\ndownslope_path(start_cell_id)"
      ]
    },
    {
      "cell_type": "markdown",
      "metadata": {},
      "source": [
        "Results\n------------- \nLet's plot the path on the DEM\n\nFor each cell along the path we plot the polygon as a square. This looks better than points at the centroids.\n\n"
      ]
    },
    {
      "cell_type": "code",
      "execution_count": null,
      "metadata": {
        "collapsed": false
      },
      "outputs": [],
      "source": [
        "im = plt.imshow(dem, extent=dem.mpl_extent)\nplt.colorbar(fraction=0.032, pad=0.01, label=\"Elevation [m]\")\nplt.xlabel(\"longitude\")\nplt.ylabel(\"latitude\")\nplt.title(\"Downslope path from a chosen starting point\", fontsize=10)\n\npath_label = \"Downslope path\"\nfor poly in dem.to_shapely(visited_cells):\n    x, y = poly.exterior.xy\n    plt.fill(x, y, alpha=1.0, color=\"red\", label=path_label)\n    path_label = None # Only show the label in the legend once\n\nplt.scatter(*dem.centroid(start_cell_id), marker=\"*\", label=\"Starting point\", color=\"purple\")\nplt.legend()\n\nplt.show()"
      ]
    },
    {
      "cell_type": "markdown",
      "metadata": {},
      "source": [
        "While the path is merely visualized in this example, the obtained cells can of course be used in different ways.\nThey can for example be used to obtain values form a different dataset along the path,\nor intersected with a polygon to determine if the path crosses a particular zone of interest.\n\n"
      ]
    }
  ],
  "metadata": {
    "kernelspec": {
      "display_name": "Python 3",
      "language": "python",
      "name": "python3"
    },
    "language_info": {
      "codemirror_mode": {
        "name": "ipython",
        "version": 3
      },
      "file_extension": ".py",
      "mimetype": "text/x-python",
      "name": "python",
      "nbconvert_exporter": "python",
      "pygments_lexer": "ipython3",
      "version": "3.8.17"
    }
  },
  "nbformat": 4,
  "nbformat_minor": 0
}