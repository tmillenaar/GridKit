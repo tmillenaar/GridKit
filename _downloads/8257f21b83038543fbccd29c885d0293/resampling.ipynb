{
  "cells": [
    {
      "cell_type": "markdown",
      "metadata": {},
      "source": [
        "\n\n# Resampling\n\nResample data from one grid onto another.\n\n## Introduction\n\nResampling is a general term for creating a new dataset based on an existing one.\nThis new dataset can have a different resolution, cell shape or Coordinate Reference System (CRS).\n\nIn GridKit, resampling is generally done by defining a new grid and resampling onto that new grid.\nIn this example a DEM is read from a geotiff file.\nThe read function returns a BoundedRectGrid object that will serve as the initial state.\nSeveral grids with different cell shapes are then defined on which the DEM data can be resampled.\n"
      ]
    },
    {
      "cell_type": "code",
      "execution_count": null,
      "metadata": {
        "collapsed": false
      },
      "outputs": [],
      "source": [
        "from gridkit import HexGrid, RectGrid, read_raster\n\ndem = read_raster(\n    \"../../tests/data/alps_dem.tiff\", bounds=(28300, 167300, 28700, 167700)\n)\nprint(\"Original resolution in (dx, dy):\", dem.cellsize)"
      ]
    },
    {
      "cell_type": "markdown",
      "metadata": {},
      "source": [
        ".. Warning ::\n\n   Be mindful of the projection of your dataset.\n   This dataset is in ETRS89, which is defined in degrees, which can introduce a bias.\n   Grids defined in degrees generally do not have consistent spacing in x and y direction,\n   meaning that one degree north is not the same distance as one degree south.\n   It is generally recommended to work with grids defined in a local CRS that is not\n   defined in degrees but either meters or feet.\n\n\n## Resampling onto the a grid\n\nNow we have read the DEM, we can define a new grid and resample onto it\nLet's define a coarser grid, effectively downsampling the data.\nThe reason for this is that we can better compare grids if we can actually distinguish the cells.\nLet's define a rectangular grid with a cell size of 10x10 degrees.\nI am calling it rectdem for later on I will define hexagonal ones as well.\nTo make sure it worked we can print out the cellsize after resampling\n\n"
      ]
    },
    {
      "cell_type": "code",
      "execution_count": null,
      "metadata": {
        "collapsed": false
      },
      "outputs": [],
      "source": [
        "rectdem = dem.resample(RectGrid(dx=10, dy=10, crs=dem.crs), method=\"bilinear\")\nprint(\"Downsampled resolution in (dx, dy):\", rectdem.cellsize)"
      ]
    },
    {
      "cell_type": "markdown",
      "metadata": {},
      "source": [
        "Let's plot the data to see what it looks like after downsampling\n\n"
      ]
    },
    {
      "cell_type": "code",
      "execution_count": null,
      "metadata": {
        "collapsed": false
      },
      "outputs": [],
      "source": [
        "import matplotlib.pyplot as plt\n\nplt.imshow(rectdem, extent=rectdem.mpl_extent, cmap=\"terrain\")\nplt.show()"
      ]
    },
    {
      "cell_type": "markdown",
      "metadata": {},
      "source": [
        "Now let's do the same, but on hexagonal grids.\nThere are two flavours, \"pointy\" and \"flat\" hexagonal grids.\nLet's show both so we can compare them both to each other and to the downsampled rectangular grid.\nWe can define the hexagon cell size to have the same area as the downsampled rectangular dem cell size\nfor a fair visual comparison.\n\n\n"
      ]
    },
    {
      "cell_type": "code",
      "execution_count": null,
      "metadata": {
        "collapsed": false
      },
      "outputs": [],
      "source": [
        "hexdem_flat = dem.resample(\n    HexGrid(area=rectdem.area, shape=\"flat\", crs=dem.crs), method=\"bilinear\"\n)\nhexdem_pointy = dem.resample(\n    HexGrid(area=rectdem.area, shape=\"pointy\", crs=dem.crs), method=\"bilinear\"\n)"
      ]
    },
    {
      "cell_type": "markdown",
      "metadata": {},
      "source": [
        "Now let's create two new figures and populate these with the colored shapes of the two downsampled hexagon grids.\nSince there is no 'imshow' equivalent for hexagons in matplotlib, we use our own :func:`gridkit.doc_utils.plot_polygons`\nfunction, which is less performant but works on generalized shapes.\n\n\n"
      ]
    },
    {
      "cell_type": "code",
      "execution_count": null,
      "metadata": {
        "collapsed": false
      },
      "outputs": [],
      "source": [
        "from gridkit.doc_utils import plot_polygons\n\n# define two new figures\nfig_flat, ax_flat = plt.subplots()\nfig_pointy, ax_pointy = plt.subplots()\n\nplot_polygons(\n    hexdem_flat.to_shapely(),\n    colors=hexdem_flat.data.ravel(),\n    cmap=\"terrain\",\n    ax=ax_flat,\n)\nplot_polygons(\n    hexdem_pointy.to_shapely(),\n    colors=hexdem_pointy.data.ravel(),\n    cmap=\"terrain\",\n    ax=ax_pointy,\n)\n\n# Format the plot\nfor hexdem, ax in zip((hexdem_flat, hexdem_pointy), (ax_flat, ax_pointy)):\n    ax.set_xlim(hexdem.bounds[0], hexdem.bounds[2])\n    ax.set_ylim(hexdem.bounds[1], hexdem.bounds[3])\n    ax.set_aspect(\"equal\")\nplt.show()"
      ]
    },
    {
      "cell_type": "markdown",
      "metadata": {},
      "source": [
        "This example can of course also be used to upsample your data.\n\n.. Note ::\n\n   The three images in this example look different, but they are all equally 'correct'.\n   The visual difference results from the difference in positioning of the cells.\n   Generally hexagon grids better represent rounded features,\n   whereas rectangular grids are generally easier to work with and are more widespread.\n\n"
      ]
    }
  ],
  "metadata": {
    "kernelspec": {
      "display_name": "Python 3",
      "language": "python",
      "name": "python3"
    },
    "language_info": {
      "codemirror_mode": {
        "name": "ipython",
        "version": 3
      },
      "file_extension": ".py",
      "mimetype": "text/x-python",
      "name": "python",
      "nbconvert_exporter": "python",
      "pygments_lexer": "ipython3",
      "version": "3.8.18"
    }
  },
  "nbformat": 4,
  "nbformat_minor": 0
}