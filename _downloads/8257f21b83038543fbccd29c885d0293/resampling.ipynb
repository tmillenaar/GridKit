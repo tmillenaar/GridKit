{
  "cells": [
    {
      "cell_type": "markdown",
      "metadata": {},
      "source": [
        "\n\n# Resampling\n\nResample data from one grid onto another.\n\n## Introduction\n\nResampling is a general term for creating a new dataset based on an existing one.\nThis new dataset can have a different resolution, cell shape or Coordinate Reference System (CRS).\n\nIn GridKit, resampling is generally done by defining a new grid and resampling onto that new grid.\nIn this example a DEM is read from a geotiff file.\nThe read function returns a BoundedRectGrid object that will serve as the initial state.\nSeveral grids with different cell shapes are then defined on which the DEM data can be resampled.\n"
      ]
    },
    {
      "cell_type": "code",
      "execution_count": null,
      "metadata": {
        "collapsed": false
      },
      "outputs": [],
      "source": [
        "import numpy\n\nfrom gridkit import HexGrid, RectGrid, read_raster\n\ndem = read_raster(\n    \"../../tests/data/alps_dem.tiff\", bounds=(28300, 167300, 28700, 167700)\n)\nprint(\"Original resolution in (dx, dy):\", dem.cellsize)"
      ]
    },
    {
      "cell_type": "markdown",
      "metadata": {},
      "source": [
        ".. Warning ::\n\n   Be mindful of the projection of your dataset.\n   This dataset is in ETRS89, which is defined in degrees, which can introduce a bias.\n   Grids defined in degrees generally do not have consistent spacing in x and y direction,\n   meaning that one degree north is not the same distance as one degree south.\n   It is generally recommended to work with grids defined in a local CRS that is not\n   defined in degrees but either meters or feet.\n\n\n## Resampling onto the a grid\n\nNow we have read the DEM, we can define a new grid and resample onto it\nLet's define a coarser grid, effectively downsampling the data.\nThe reason for this is that we can better compare grids if we can actually distinguish the cells.\nLet's define a rectangular grid with a cell size of 10x10 degrees.\nI am calling it rectdem for later on I will define hexagonal ones as well.\nTo make sure it worked we can print out the cellsize after resampling\n\n"
      ]
    },
    {
      "cell_type": "code",
      "execution_count": null,
      "metadata": {
        "collapsed": false
      },
      "outputs": [],
      "source": [
        "rectdem = dem.resample(RectGrid(dx=10, dy=10, crs=dem.crs), method=\"bilinear\")\nprint(\"Downsampled resolution in (dx, dy):\", dem.cellsize)"
      ]
    },
    {
      "cell_type": "markdown",
      "metadata": {},
      "source": [
        "Let's plot the data to see what it looks like after downsampling\n\n"
      ]
    },
    {
      "cell_type": "code",
      "execution_count": null,
      "metadata": {
        "collapsed": false
      },
      "outputs": [],
      "source": [
        "import matplotlib.pyplot as plt\n\nplt.imshow(rectdem, extent=rectdem.mpl_extent, cmap=\"terrain\")\nplt.show()"
      ]
    },
    {
      "cell_type": "markdown",
      "metadata": {},
      "source": [
        "Now let's do the same, but on hexagonal grids.\nThere are two flavours, \"pointy\" and \"flat\" hexagonal grids.\nLet's show both so we can compare them both to each other and the downsampled rectangular grid.\nHexagonal cells are smaller than square cells when given the same width,\nso to make a more fair visual comparisson let's use a slightly larger cell width.\nThis way we will have a roughly equal number of cells covering the area.\n\n"
      ]
    },
    {
      "cell_type": "code",
      "execution_count": null,
      "metadata": {
        "collapsed": false
      },
      "outputs": [],
      "source": [
        "hexdem_flat = dem.resample(\n    HexGrid(size=11, shape=\"flat\", crs=dem.crs), method=\"bilinear\"\n)\nhexdem_pointy = dem.resample(\n    HexGrid(size=11, shape=\"pointy\", crs=dem.crs), method=\"bilinear\"\n)"
      ]
    },
    {
      "cell_type": "markdown",
      "metadata": {},
      "source": [
        "Since matplotlib's imshow cannot be used to plot this hexagonal data, we have to get a little more involved.\nWe can each cell as a polygon. This is more involved and less performant way of plotting than imshow,\nbut it will get the job done.\nFirst, let's create a function that determines the colors for our polygons.\n\n"
      ]
    },
    {
      "cell_type": "code",
      "execution_count": null,
      "metadata": {
        "collapsed": false
      },
      "outputs": [],
      "source": [
        "import matplotlib.pylab as pl\n\n\ndef get_colors(data):\n    \"\"\"Obtain a color for each data value based on the data range of the original dem\"\"\"\n    cmap = getattr(pl.cm, \"terrain\")\n    vmin = numpy.nanmin(dem)\n    dem_values_normalized = dem.data.ravel() - vmin\n    vmax = numpy.nanmax(dem_values_normalized)\n    values_normalized = data.ravel() - vmin\n    values_normalized = values_normalized / vmax\n    colors = cmap(values_normalized)\n    colors[numpy.all(colors == 0, axis=1)] += 1  # turn black (nodata) to white\n    return colors"
      ]
    },
    {
      "cell_type": "markdown",
      "metadata": {},
      "source": [
        "Now let's create two new figures and populate these with the colored shapes of the two downsampled hexagon grids.\n\n"
      ]
    },
    {
      "cell_type": "code",
      "execution_count": null,
      "metadata": {
        "collapsed": false
      },
      "outputs": [],
      "source": [
        "# define two new figures\nfig_flat, ax_flat = plt.subplots()\nfig_pointy, ax_pointy = plt.subplots()\n\n# populate the figures with colored polygons\nfor geom, color in zip(hexdem_flat.to_shapely(), get_colors(hexdem_flat.data)):\n    ax_flat.fill(*geom.exterior.xy, alpha=1.0, color=color)\nfor geom, color in zip(hexdem_pointy.to_shapely(), get_colors(hexdem_pointy.data)):\n    ax_pointy.fill(*geom.exterior.xy, alpha=1.0, color=color)\n\nplt.show()"
      ]
    },
    {
      "cell_type": "markdown",
      "metadata": {},
      "source": [
        "This example can of course also be used to upsample your data.\n\n.. Note ::\n\n   The three images in this example look different, but they are all equally 'correct'.\n   The visual difference results from the difference in positioning of the cells.\n   Generally hexagon grids better represent rounded features,\n   whereas rectangular grids are generally easier to work with and are more widespread.\n\n"
      ]
    }
  ],
  "metadata": {
    "kernelspec": {
      "display_name": "Python 3",
      "language": "python",
      "name": "python3"
    },
    "language_info": {
      "codemirror_mode": {
        "name": "ipython",
        "version": 3
      },
      "file_extension": ".py",
      "mimetype": "text/x-python",
      "name": "python",
      "nbconvert_exporter": "python",
      "pygments_lexer": "ipython3",
      "version": "3.8.18"
    }
  },
  "nbformat": 4,
  "nbformat_minor": 0
}