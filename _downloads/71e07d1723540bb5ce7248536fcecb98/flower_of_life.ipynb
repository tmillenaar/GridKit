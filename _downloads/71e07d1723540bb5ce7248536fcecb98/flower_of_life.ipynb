{
  "cells": [
    {
      "cell_type": "markdown",
      "metadata": {},
      "source": [
        "\n\n# Flower of life\n\nThe so called 'flower of life' is a type of 'overlapping circles grid' seen in many cultures.\nWhile it is often constructed on a triangular grid,\nhere I will show how to construct one using three hexagonal grids\nwhere their relative offsets and rotation are chosen deliberately to\nconstruct the desired pattern.\n\nFirst I will create an hexagonal grid and plot the cells as circles\nwhere the radius will be the distance from the center to a corner.\n\nI will anchor a corner to a chosen center such that it is easier to reason about.\n"
      ]
    },
    {
      "cell_type": "code",
      "execution_count": null,
      "metadata": {
        "collapsed": false
      },
      "outputs": [],
      "source": [
        "from gridkit import HexGrid\n\ncenter = [0, 0]\ndepth = 3\n\ngrid = HexGrid(size=1, rotation=0).anchor(center)\n\n\ndef get_centroids(grid):\n    \"\"\"Get the centroids of a collection of cells around the specified 'center'\n    at a specified depth\"\"\"\n    ids = grid.neighbours(\n        grid.cell_at_point(center), depth=depth, include_selected=True\n    )\n    return grid.centroid(ids)\n\n\ngrid.anchor(center, in_place=True, cell_element=\"corner\")\ncentroids = get_centroids(grid)"
      ]
    },
    {
      "cell_type": "markdown",
      "metadata": {},
      "source": [
        "Now I will plot the circles at the obtained centroids.\n\n.. Tip ::\n\n   The circles are plotted as matplotlib's PatchCollection objects.\n   In this script I represent them as shapely Polygons for convenience and reusability,\n   but they can also be represented using a ``matplotlib.circle(centroid, radius)``\n\n..\n\n\n"
      ]
    },
    {
      "cell_type": "code",
      "execution_count": null,
      "metadata": {
        "collapsed": false
      },
      "outputs": [],
      "source": [
        "import matplotlib.pyplot as plt\nfrom shapely.geometry import MultiPolygon, Point\n\nfrom gridkit.doc_utils import plot_polygons\n\n\ndef plot_circles(geoms, color):\n    plot_polygons(geoms, colors=color, alpha=0.4)\n    plot_polygons(geoms, colors=color, fill=False, linewidth=3)\n\n\nradius = grid.r\ncentroids_to_polygons = lambda centroids: MultiPolygon(\n    [Point(c).buffer(radius) for c in centroids]\n)\ncircles = centroids_to_polygons(centroids)\nplot_circles(circles, \"cyan\")\nplt.scatter(*center, marker=\"x\", color=\"black\", s=40)\nplt.show()"
      ]
    },
    {
      "cell_type": "markdown",
      "metadata": {},
      "source": [
        "If you are familiar with the flower of life pattern,\nyou might find that we are already nicely underway, but we are missing some circles.\nThe first set of circles we might want to add, is basically the same set,\nbut rotated by 60 degrees around the chosen center.\nThis looks like so:\n\n\n"
      ]
    },
    {
      "cell_type": "code",
      "execution_count": null,
      "metadata": {
        "collapsed": false
      },
      "outputs": [],
      "source": [
        "grid.rotation = 60\ngrid.anchor(\n    center, in_place=True, cell_element=\"corner\"\n)  # re-anchor a corner at the chosen center after rotation\ncentroids1 = get_centroids(grid)\ncircles1 = centroids_to_polygons(centroids1)\n\n# Plot the two sets of circles\nplot_circles(circles, \"red\")\nplot_circles(circles1, \"cyan\")\nplt.scatter(*center, marker=\"x\", color=\"black\", s=40)\nax = plt.gca()\nax.set_xlim(-3, 3.5)\nax.set_ylim(-3, 3.5)\nplt.show()"
      ]
    },
    {
      "cell_type": "markdown",
      "metadata": {},
      "source": [
        "Now we are very close, but still missing some circles.\nThe last set will need to circle the chosen center and not cross it.\nLet's add the last set of circles:\n\n\n"
      ]
    },
    {
      "cell_type": "code",
      "execution_count": null,
      "metadata": {
        "collapsed": false
      },
      "outputs": [],
      "source": [
        "grid.anchor(center, in_place=True, cell_element=\"centroid\")\ncentroids2 = get_centroids(grid)\ncircles2 = centroids_to_polygons(centroids2)\n\nplot_circles(circles, \"red\")\nplot_circles(circles1, \"cyan\")\nplot_circles(circles2, \"yellow\")\nplt.scatter(*center, marker=\"x\", color=\"black\", s=40)\nax = plt.gca()\nax.set_aspect(\"equal\")\nax.set_xlim(-3, 3.5)\nax.set_ylim(-3, 3.5)\nplt.show()"
      ]
    },
    {
      "cell_type": "markdown",
      "metadata": {},
      "source": [
        "This is it! To visualize it nicely we can add a border around it and clip the polygons\nsuch that they do not cross the outer border.\n\n\n"
      ]
    },
    {
      "cell_type": "code",
      "execution_count": null,
      "metadata": {
        "collapsed": false
      },
      "outputs": [],
      "source": [
        "outer_poly = Point(center).buffer(3 * grid.r)\n\nall_circles = [*circles.geoms, *circles1.geoms, *circles2.geoms]\nall_circles = MultiPolygon([c.intersection(outer_poly) for c in all_circles])\n\nplot_polygons(all_circles, fill=False, colors=\"black\")\nplot_polygons(outer_poly.buffer(0.0), fill=False, colors=\"black\")\nplot_polygons(outer_poly.buffer(0.05), fill=False, colors=\"black\")\nplt.gca().set_aspect(\"equal\")\nplt.show()"
      ]
    }
  ],
  "metadata": {
    "kernelspec": {
      "display_name": "Python 3",
      "language": "python",
      "name": "python3"
    },
    "language_info": {
      "codemirror_mode": {
        "name": "ipython",
        "version": 3
      },
      "file_extension": ".py",
      "mimetype": "text/x-python",
      "name": "python",
      "nbconvert_exporter": "python",
      "pygments_lexer": "ipython3",
      "version": "3.8.18"
    }
  },
  "nbformat": 4,
  "nbformat_minor": 0
}