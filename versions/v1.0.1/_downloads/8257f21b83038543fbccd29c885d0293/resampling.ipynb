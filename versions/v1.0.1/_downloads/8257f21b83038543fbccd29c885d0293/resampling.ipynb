{
  "cells": [
    {
      "cell_type": "markdown",
      "metadata": {},
      "source": [
        "\n\n# Resampling\n\nResample data from one grid onto another.\n\n## Introduction\n\nResampling is a general term for creating a new dataset based on an existing one.\nThis new dataset can have a different resolution, cell shape or Coordinate Reference System (CRS).\n\nIn GridKit, resampling is generally done by defining a new grid and resampling onto that new grid.\nIn this example a DEM is read from a geotiff file.\nThe read function returns a BoundedRectGrid object that will serve as the initial state.\nSeveral grids with different cell shapes are then defined on which the DEM data can be resampled.\n"
      ]
    },
    {
      "cell_type": "code",
      "execution_count": null,
      "metadata": {
        "collapsed": false
      },
      "outputs": [],
      "source": [
        "from gridkit import HexGrid, RectGrid, raster_to_data_tile\n\ndem = raster_to_data_tile(\n    \"../../tests/data/alps_dem.tiff\", bounds=(28300, 167300, 28700, 167700)\n)\nprint(f\"Original resolution in (dx, dy): ({dem.grid.dx}, {dem.grid.dy})\")"
      ]
    },
    {
      "cell_type": "markdown",
      "metadata": {},
      "source": [
        ".. Warning ::\n\n   Be mindful of the projection of your dataset.\n   This dataset is in ETRS89, which is defined in degrees, which can introduce a bias.\n   Grids defined in degrees generally do not have consistent spacing in x and y direction,\n   meaning that one degree north is not the same distance as one degree south.\n   It is generally recommended to work with grids defined in a local CRS that is not\n   defined in degrees but either meters or feet.\n\n\n## Resampling onto the a grid\n\nNow we have read the DEM, we can define a new grid and resample onto it\nLet's define a coarser grid, effectively downsampling the data.\nThe reason for this is that we can better compare grids if we can actually distinguish the cells.\nLet's define a rectangular grid with a cell size of 10x10 degrees.\nI am calling it rectdem for later on I will define hexagonal ones as well.\nTo make sure it worked we can print out the cellsize after resampling\n\n"
      ]
    },
    {
      "cell_type": "code",
      "execution_count": null,
      "metadata": {
        "collapsed": false
      },
      "outputs": [],
      "source": [
        "rectdem = dem.resample(RectGrid(dx=10, dy=10, crs=dem.grid.crs), method=\"linear\")\nprint(f\"Downsampled resolution in (dx, dy): ({rectdem.grid.dx}, {rectdem.grid.dy})\")"
      ]
    },
    {
      "cell_type": "markdown",
      "metadata": {},
      "source": [
        "Let's plot the data to see what it looks like after downsampling\n\n"
      ]
    },
    {
      "cell_type": "code",
      "execution_count": null,
      "metadata": {
        "collapsed": false
      },
      "outputs": [],
      "source": [
        "import matplotlib.pyplot as plt\n\nplt.imshow(rectdem, extent=rectdem.mpl_extent, cmap=\"terrain\")\nplt.show()"
      ]
    },
    {
      "cell_type": "markdown",
      "metadata": {},
      "source": [
        "Now let's do the same, but on hexagonal grids.\nThere are two flavours, \"pointy\" and \"flat\" hexagonal grids.\nLet's show both so we can compare them both to each other and to the downsampled rectangular grid.\nWe can define the hexagon cell size to have the same area as the downsampled rectangular dem cell size\nfor a fair visual comparison.\n\n\n"
      ]
    },
    {
      "cell_type": "code",
      "execution_count": null,
      "metadata": {
        "collapsed": false
      },
      "outputs": [],
      "source": [
        "hexdem_flat = dem.resample(\n    HexGrid(area=rectdem.grid.area, shape=\"flat\", crs=dem.grid.crs), method=\"linear\"\n)\nhexdem_pointy = dem.resample(\n    HexGrid(area=rectdem.grid.area, shape=\"pointy\", crs=dem.grid.crs), method=\"linear\"\n)\n\n\nfrom shapely import Polygon"
      ]
    },
    {
      "cell_type": "markdown",
      "metadata": {},
      "source": [
        "Now let's create two new figures and populate these with the colored shapes of the two downsampled hexagon grids.\nSince there is no 'imshow' equivalent for hexagons in matplotlib, we use our own :func:`gridkit.doc_utils.plot_polygons`\nfunction, which is less performant but works on generalized shapes.\n\n\n"
      ]
    },
    {
      "cell_type": "code",
      "execution_count": null,
      "metadata": {
        "collapsed": false
      },
      "outputs": [],
      "source": [
        "from gridkit.doc_utils import plot_polygons\n\n\n# define two new figures\ndef plot_flat_and_pointy(flat_tile, pointy_tile):\n    fig_flat, ax_flat = plt.subplots()\n    fig_pointy, ax_pointy = plt.subplots()\n\n    plot_polygons(  # Plot 1, show data\n        flat_tile.to_shapely(),\n        colors=hexdem_flat.to_numpy().ravel(),\n        cmap=\"terrain\",\n        add_colorbar=True,\n        ax=ax_flat,\n    )\n    plot_polygons(  # Plot 1, show tile bounds\n        Polygon(flat_tile.corners()),\n        colors=\"red\",\n        fill=False,\n        ax=ax_flat,\n    )\n\n    plot_polygons(  # Plot 2, show data\n        pointy_tile.to_shapely(),\n        colors=hexdem_pointy.to_numpy().ravel(),\n        cmap=\"terrain\",\n        add_colorbar=True,\n        ax=ax_pointy,\n    )\n    plot_polygons(  # Plot 2, show tile bounds\n        Polygon(pointy_tile.corners()),\n        colors=\"red\",\n        fill=False,\n        ax=ax_pointy,\n    )\n    ax_flat.set_aspect(\"equal\")\n    ax_pointy.set_aspect(\"equal\")\n    plt.show()\n\n\nplot_flat_and_pointy(hexdem_flat, hexdem_pointy)"
      ]
    },
    {
      "cell_type": "markdown",
      "metadata": {},
      "source": [
        "When observing these plots it is obvious that one of them has something weird going on at the edge of the tile.\nTriangluar and hexagonal grids both have one of the axes that is irregular. Sometimes it works out such that\nan irregular row or column has some cells inside the tile and some outside. In such a case we can have nodata values\nat the edges. The original dem file has the nodata value set to 0. The nodata value is inherited when resampling.\nWe see these 0 values here at the edges. Matplotlib recognizes NaN values as nodata but just shows 0 values,\nas it should. Of course this not only affects the sides of the plot but also changes the range of the colormap.\nFor visualization we can set the nodata_value of our dems to NaN, which will replace all\noccurences of a nodata value in our tile with the new nodata value.\n\n.. Note ::\n\n    The edges can also contain nodata_values if the interpolation method looks at neighboring cells,\n    such as with bilinear resampling. If one of the neighbours of a cell is outside of the tile,\n    the interpolation result will also be a nodata_value, even if the cell itself is inside of the tile.\n\n..\n\n\n"
      ]
    },
    {
      "cell_type": "code",
      "execution_count": null,
      "metadata": {
        "collapsed": false
      },
      "outputs": [],
      "source": [
        "# numpy.nan also works but since that is not imported in this example, I use python's buildin nan float\nhexdem_flat.nodata_value = float(\"nan\")\nhexdem_pointy.nodata_value = float(\"nan\")\n\nplot_flat_and_pointy(hexdem_flat, hexdem_pointy)"
      ]
    },
    {
      "cell_type": "markdown",
      "metadata": {},
      "source": [
        "This concludes the example. Naturally, this example can also be used to upsample your data.\n\n.. Note ::\n\n   The three resampled images in this example look different, but they are all equally 'correct'.\n   The visual difference results from the difference in positioning of the cells.\n   Generally hexagon grids better represent rounded features,\n   whereas rectangular grids are generally easier to work with and are more widespread.\n\n\n"
      ]
    }
  ],
  "metadata": {
    "kernelspec": {
      "display_name": "Python 3",
      "language": "python",
      "name": "python3"
    },
    "language_info": {
      "codemirror_mode": {
        "name": "ipython",
        "version": 3
      },
      "file_extension": ".py",
      "mimetype": "text/x-python",
      "name": "python",
      "nbconvert_exporter": "python",
      "pygments_lexer": "ipython3",
      "version": "3.10.18"
    }
  },
  "nbformat": 4,
  "nbformat_minor": 0
}