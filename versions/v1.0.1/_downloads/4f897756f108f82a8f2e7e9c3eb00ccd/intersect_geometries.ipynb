{
  "cells": [
    {
      "cell_type": "markdown",
      "metadata": {},
      "source": [
        "\n# Geometry intersections\n\nObtain the cells that intersect with vector geometries.\n\nDEM data source: https://www.eea.europa.eu/data-and-maps/data/copernicus-land-monitoring-service-eu-dem\n\n## Introduction\n\nVector geometries can be used to obtain the ID of the intersecting grid cells.\nThese vector geometries can be either in the form of Shapely (Multi) Geometries or GeoPandas GeoSeries.\nA list of geometries can be supplied. This list can contain a mix of geometry types.\n\n.. Tip ::\n    While it is technically possible to stack Multi-Geometries (for example a MultiPolygon of MultiPolygons), this is not good for performance of ``intersect_geometries``.\n    Try to avoid this if possible.\n\nIn this example, GeoPandas is used instead of Shapely, for it also allows us to conveniently read in the vector data.\n\n.. Note ::\n    GeoPandas is not installed with GridKit by default, while Shapely is.\n\n## Reading and preparing the data\n\nAfter reading the streams and lakes vector files, they are concatenated into a single GeoDataFrame.\nThis allows us to obtain the intersecting cells in one function call.\nOf course it is also an option to obtain the intersecting cell IDs for the strams and lakes separately and combine them after using `numpy.vstack`.\nWith that approach it might be worthwhile to call a `numpy.unique` on axis 0 afterwards to remove duplicate IDs.\n"
      ]
    },
    {
      "cell_type": "code",
      "execution_count": null,
      "metadata": {
        "collapsed": false
      },
      "outputs": [],
      "source": [
        "import geopandas\nimport matplotlib.pyplot as plt\nimport pandas\n\nfrom gridkit import read_raster\n\nrivers = geopandas.read_file(\"../../tests/data/streams.gpkg\")\nlakes = geopandas.read_file(\"../../tests/data/lakes.gpkg\")\ndem = read_raster(\"../../tests/data/alps_dem.tiff\")\n\nwater_bodies = pandas.concat([rivers, lakes]).reset_index().to_crs(dem.crs)\n\nriver_cell_ids = dem.intersect_geometries(water_bodies.geometry)"
      ]
    },
    {
      "cell_type": "markdown",
      "metadata": {},
      "source": [
        "## Visualization\nFor a clear plot, we only need to plot the DEM near the vecor geometries as a backround.\nFor that reason, the dem is cropped to the extent of the water bodies with a little buffer.\nSince ``intersect_geometries`` does it's own cropping, cropping the grid before ``intersect_geometries`` does not increase performance.\nA plot showing DEM, the geometries (orange) and the selected cells (red) is then generated as follows:\n\n"
      ]
    },
    {
      "cell_type": "code",
      "execution_count": null,
      "metadata": {
        "collapsed": false
      },
      "outputs": [],
      "source": [
        "dem = dem.crop(water_bodies.total_bounds, bounds_crs=water_bodies.crs, buffer_cells=20)\n\n\ndef generate_plot():\n    fig, ax = plt.subplots()\n    ax.imshow(dem, extent=dem.mpl_extent)\n\n    for poly in dem.to_shapely(river_cell_ids).geoms:\n        x, y = poly.exterior.xy\n        ax.fill(x, y, alpha=0.5, color=\"red\")\n\n    for geom in water_bodies.geometry:\n        try:\n            x, y = geom.exterior.xy\n            ax.fill(x, y, alpha=0.5, color=\"orange\")\n        except AttributeError:\n            x, y = geom.xy\n            ax.plot(x, y, c=\"orange\")\n\n    ax.set_xlabel(\"lon\")\n    ax.set_ylabel(\"lat\")\n    return ax\n\n\ngenerate_plot()\nplt.show()"
      ]
    },
    {
      "cell_type": "markdown",
      "metadata": {},
      "source": [
        "A zoom-in of a section of the plot allows us to see more clearly what cells are selected.\n\n"
      ]
    },
    {
      "cell_type": "code",
      "execution_count": null,
      "metadata": {
        "collapsed": false
      },
      "outputs": [],
      "source": [
        "ax = generate_plot()\nax.set_xlim(30040, 30160)\nax.set_ylim(167230, 167325)\nplt.show()"
      ]
    }
  ],
  "metadata": {
    "kernelspec": {
      "display_name": "Python 3",
      "language": "python",
      "name": "python3"
    },
    "language_info": {
      "codemirror_mode": {
        "name": "ipython",
        "version": 3
      },
      "file_extension": ".py",
      "mimetype": "text/x-python",
      "name": "python",
      "nbconvert_exporter": "python",
      "pygments_lexer": "ipython3",
      "version": "3.10.18"
    }
  },
  "nbformat": 4,
  "nbformat_minor": 0
}