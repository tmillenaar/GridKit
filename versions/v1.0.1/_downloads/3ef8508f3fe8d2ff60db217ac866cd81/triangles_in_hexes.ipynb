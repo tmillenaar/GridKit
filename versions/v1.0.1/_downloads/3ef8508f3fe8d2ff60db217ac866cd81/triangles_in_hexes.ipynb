{
  "cells": [
    {
      "cell_type": "markdown",
      "metadata": {},
      "source": [
        "\n\n# Triangles in hexagons\n\nAligning different types of grids\n\n## Introduction\n\nIn this example a triangle and a hexagon grid are defined in such a way\nthat they perfectly line up. A hexagon can be neatly divided into six triangles.\n\n.. Tip ::\n\n    The process in this example has been greatly simplified with the introduction\n    of :meth:`.HexGrid.subdivide` in v0.12.0.\n    This example shows the more cumbersome approach, but I will leave this example\n    up for now for educational purposes, for it shows how to manipulate cell size\n    and offsets to position the grid the way you want.\n\n..\n\nFor the two grids to visually align, two things will need to match:\n - the length of the edge connecting two vertices needs to be the same\n - they need an origin point that lines them up properly\n\nWhen initializing a grid in GridKit, the size specified by the user reflects the\ndistance between the centroids of two neighboring cells (dx).\nFor the hexagonal grid this will be a different value than for the triangle grid.\nThe triangle grid is easiest. The side length is `2*dx`.\nLet's say we want side lengths of 1, we specify a size for the triangle grid of 0.5.\nFor the hexagonal grid this is less intuitive, it works out\nto be three over the square root of three: `3 / sqrt(3)`.\nAt least this is the case if we use a 'flat' orientation for our hexagonal grid,\nwhich we will need to do in order for the grids to overlap.\nIf this is not obvious, I encourage you to do this exercise with a 'pointy' hexagonal grid.\nIt will be obvious from the plot.\n\nLet's first plot some cells of these two grids and compare them.\nFrom there we can figure out how to shift the grids in order to align them.\n"
      ]
    },
    {
      "cell_type": "code",
      "execution_count": null,
      "metadata": {
        "collapsed": false
      },
      "outputs": [],
      "source": [
        "import matplotlib.pyplot as plt\n\nfrom gridkit import HexGrid, Tile, TriGrid\nfrom gridkit.doc_utils import plot_polygons\n\ntri_grid = TriGrid(size=1)\nhex_grid = HexGrid(size=3 / 3**0.5, shape=\"flat\")\n\ntri_tile = Tile(tri_grid, (-14, -7), 27, 13)\nhex_tile = Tile(hex_grid, (-5, -4), 9, 7)\n\n# Note: The grid is copied when creating a tile such that the grid that is related to the tile\n# does not unexpectedly change when the original grid object changes.\n# In this example we do actually want to change the grid that is related to the tile\n# so let's redefine the grids to point to the copies that are related to the respective tiles.\ntri_grid = tri_tile.grid\nhex_grid = hex_tile.grid\n\nax = plt.subplot()\ntri_geoms = tri_tile.to_shapely()\nplot_polygons(tri_geoms, fill=False, colors=\"pink\", linewidth=2, ax=ax)\nhex_geoms = hex_tile.to_shapely()\nplot_polygons(hex_geoms, fill=False, colors=\"cyan\", linewidth=2, linestyle=\":\", ax=ax)\n# Create lattice with spacing of dx and dy to highlight cell bounds\nax.set_xticks([i * hex_grid.dx for i in range(-5, 5)])\nax.set_yticks([i * hex_grid.dy for i in range(-5, 5)])\nax.grid()\nplt.scatter(0, 0, s=10, zorder=10)\nplt.show()"
      ]
    },
    {
      "cell_type": "markdown",
      "metadata": {},
      "source": [
        "The grids seem to be similar in terms of side length. Let's verify this:\n\n\n"
      ]
    },
    {
      "cell_type": "code",
      "execution_count": null,
      "metadata": {
        "collapsed": false
      },
      "outputs": [],
      "source": [
        "print(tri_grid.side_length, hex_grid.side_length)\nimport numpy\n\nassert numpy.isclose(tri_grid.side_length, hex_grid.side_length)"
      ]
    },
    {
      "cell_type": "markdown",
      "metadata": {},
      "source": [
        "The grids are not aligned however. We can use the :meth:`.BaseGrid.anchor` method on both grids\nto force them to have a corner at the same location, but let's supply a manual offset\nfor educational purposes. Say we want to position the hexagon around zero.\nFrom visually inspecting the plot I can tell we'd have to\nshift the hexagon to the right by half a dx.\nThe triangles already cross at the origin so that will do for our usecase.\n\n.. Note ::\n\n   Before version 1.0.0 , when dealing with a 'flat' hex grid, the x and y of `offset` need to\n   be set in reverse order: (y,x). This is a conceptual inconsistency\n   that has since been fixed.\n\n..\n\n.. Tip ::\n\n   For simpler centering of grids around origin, see :meth:`.BaseGrid.anchor`\n\n..\n\n"
      ]
    },
    {
      "cell_type": "code",
      "execution_count": null,
      "metadata": {
        "collapsed": false
      },
      "outputs": [],
      "source": [
        "hex_grid.offset = (hex_grid.dx / 2, 0)\n\nax = plt.subplot()\ntri_geoms = tri_tile.to_shapely()\nplot_polygons(tri_geoms, fill=False, colors=\"pink\", linewidth=2)\nhex_geoms = hex_tile.to_shapely()\nplot_polygons(hex_geoms, fill=False, colors=\"cyan\", linewidth=2, linestyle=\":\")\n# Create lattice with spacing of dx and dy to highlight cell bounds\nax.set_xticks([i * hex_grid.dx + hex_grid.dx / 2 for i in range(-5, 5)])\nax.set_yticks([i * hex_grid.dy for i in range(-5, 5)])\nax.grid()\nplt.scatter(0, 0, s=10, zorder=10)\nplt.show()"
      ]
    },
    {
      "cell_type": "markdown",
      "metadata": {},
      "source": [
        "Et voila. Our grids are centered around the origin.\nNow we can play with the interaction between these grids.\nWe can for example figure out what triangles belong to what hexagon.\nThe simplest way to do this is to get the centroids of the triangles\nand call cell_at_point on the hexagon grid using these centroids.\nWe can even give every triangle in the top-left of a hexagon the same color for example.\nBecause of the way we ordered the cell-ids, we know that\nthe first triangle will be in the top left of the hexagon.\nIf you obtained the cell id's in a different manner,\nyou can sort them to make sure this is the case.\nYou can use numpy for this, like ``numpy.sort(tri_ids.ravel())`` for example.\n\nFirst let's find all the hex_ids.\nWe can then assign each hex id a different value.\nThen we plot the triangles using these values and expect the hexagon\ngrid to be reflected in the colors\n\n\n"
      ]
    },
    {
      "cell_type": "code",
      "execution_count": null,
      "metadata": {
        "collapsed": false
      },
      "outputs": [],
      "source": [
        "tri_centroids = tri_grid.centroid(tri_tile.indices)\nhex_ids = hex_grid.cell_at_point(tri_centroids).ravel()\nvalue_map = {tuple(cell): i for (i, cell) in enumerate(hex_ids.unique().index)}\ncolor_values = [value_map[tuple(cell)] for cell in hex_ids.index]\nplot_polygons(tri_geoms, fill=True, cmap=\"viridis\", colors=color_values, linewidth=2)\nplot_polygons(tri_geoms, fill=False, colors=\"pink\", linewidth=0.3, linestyle=\":\")\nplt.show()"
      ]
    },
    {
      "cell_type": "markdown",
      "metadata": {},
      "source": [
        "As mentioned above, we can use the order of the data to color the\ncells based on whether they are the first, second, third etc. occurrence\nfor the given hexagon. For good measure let's also make the color dependent\non the y-value of the hexagon, for good measure.\nWe can create a dictionary based on the tuple representation of the index\nto keep track of the number of triangles in the grid.\nThen we create a colors list that will have a number for each triangle\nbased on whether it was the first, second, etc. triangle in that hexagon.\n\n\n"
      ]
    },
    {
      "cell_type": "code",
      "execution_count": null,
      "metadata": {
        "collapsed": false
      },
      "outputs": [],
      "source": [
        "id_counter = dict()\ncolor_values = []\nfor id in hex_ids.ravel().index:\n    id = tuple(id)\n    if id in id_counter:  # increment value for hexagon if present\n        id_counter[id] += 1\n    else:  # add id to dictionary if not present yet\n        id_counter[id] = 1\n    color_values.append(id_counter[id] + 2 * id[1])\nplot_polygons(tri_geoms, fill=True, cmap=\"viridis\", colors=color_values, linewidth=2)\nplt.show()"
      ]
    },
    {
      "cell_type": "markdown",
      "metadata": {},
      "source": [
        "Ain't that pretty?\n\n\nThis kind of trick can be used for resampling.\nEach cell is then divided into smaller cells.\nA nearest neighbour resampling is then used on the smaller\ncells, after which the mean or majority can be used to determine\nthe value of the larger cell.\nMaybe I will implement that as a default method some day.\nIt's fun but also arguably a good way to go about resampling\nin many cases.\n\nThis is called remapping in the following publication:\n\nAccadia, C., S. Mariani, M. Casaioli, A. Lavagnini, and A. Speranza, 2003:\nSensitivity of Precipitation Forecast Skill Scores to Bilinear Interpolation and\na Simple Nearest-Neighbor Average Method on High-Resolution Verification Grids.\nWea. Forecasting, 18, 918\u2013932, [https://doi.org/10.1175/1520-0434(2003)018\\](0918:SOPFSS\\>2.0.CO;2 <https://doi.org/10.1175/1520-0434(2003)018\\<0918:SOPFSS\\>2.0.CO;2) .\n\n\n"
      ]
    }
  ],
  "metadata": {
    "kernelspec": {
      "display_name": "Python 3",
      "language": "python",
      "name": "python3"
    },
    "language_info": {
      "codemirror_mode": {
        "name": "ipython",
        "version": 3
      },
      "file_extension": ".py",
      "mimetype": "text/x-python",
      "name": "python",
      "nbconvert_exporter": "python",
      "pygments_lexer": "ipython3",
      "version": "3.10.18"
    }
  },
  "nbformat": 4,
  "nbformat_minor": 0
}