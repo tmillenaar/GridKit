{
  "cells": [
    {
      "cell_type": "markdown",
      "metadata": {},
      "source": [
        "\n\n# Tiled aggregation from points with Dask\n\nGroup points into grid cells in a tiled manner, using Dask.\n\n## Introduction\n\nIn example `aggregate.py <example aggregate>` an approach is demonstrated where points are grouped in cells and averaged per cell.\nThis example does the same, but in a tiled manner.\nDask is used for the groupby opertaion instead of Pandas.\nThe main difference is that Dask divides the data into chunks that can be processed independently.\nThis approach is beneficial if data does not comfortably fit into memory.\nA second reason to use this approach is the ability to process different chunks concurrently, which can provide a significant speedup.\n\n.. Note ::\n\n    Even though parallel processing using Dask can speed up the script, \n    for a small case like this the overhead is larger than the benefit obtained by parallelizing the operation.\n\n..\n\nFor a description of the approach used, please refer to `aggregate.py <example aggregate>`.\nIn this example only the differences between the approaches will be highlighted.\n\n.. Note ::\n\n    Dask uses the terms 'chunks', 'blocks' and 'partitions'.\n    While there are some nuances, in this example these terms will be used interchangably.\n    I will try to stick with 'chunks' where I can since this is the general term, \n    though you will find references to 'map_blocks()' for Arrays and 'map_partitions()' for DataFrames.\n\n## Generate input data\n\nLet's start by generating some points.\nThe data will be a set of points scattered around a circle to create \na dougnut-like shape.\nI will first generate the points and the turn them into a Dask Array\nusing ``dask.array.from_dask``.\nIn a scenario where Dask is used because the data is large and memory is limited,\nyou will likely obtain your dask array in a way that\ndoes not involve first loading the whole array into memory like I do here.\nI will print ``npartitions`` to show the number of chunks the array is divided in\n(spoiler, it will be 2000/500 = 4).\n"
      ]
    },
    {
      "cell_type": "code",
      "execution_count": null,
      "metadata": {
        "collapsed": false
      },
      "outputs": [],
      "source": [
        "import dask\nimport dask.array\nimport dask.dataframe\n\nfrom gridkit.doc_utils import generate_2d_scatter_doughnut, plot_polygons\n\npoints = generate_2d_scatter_doughnut(num_points=2000, radius=4)\npoints = dask.array.from_array(points, chunks=500)\nprint(points.npartitions)  # show the number of chunks ()"
      ]
    },
    {
      "cell_type": "markdown",
      "metadata": {},
      "source": [
        "## Relate points to grid cells\n\nNow we can create a grid and determine the cell associated to each point.\nNo advanced knowledge of Dask is required to follow this example.\nIt suffices to know that 'map_blocks' and 'map_partitions' will apply the supplied function to all chunks.\n\n\n"
      ]
    },
    {
      "cell_type": "code",
      "execution_count": null,
      "metadata": {
        "collapsed": false
      },
      "outputs": [],
      "source": [
        "from dask_geopandas.geohash import encode_geohash\n\nfrom gridkit import HexGrid\n\ngrid = HexGrid(size=1, shape=\"flat\")\ncell_ids = points.map_blocks(lambda p: grid.cell_at_point(p).index, dtype=int)"
      ]
    },
    {
      "cell_type": "markdown",
      "metadata": {},
      "source": [
        "In the example using Pandas, we were able to group by the GridIndex object.\nThere we have one column that contains the grid index.\nDask splits the x and y values of the index into two columns,\nso that approach won't work here.\nWe need a way to convert the x and y values of the index into a single number\nthat can then be used in Dask's groupby method.\nFortunately, dask_geopandas already solved this prpblem by creating a spatial index function.\nHere I will use that function to create a geohash we can use to group.\n\n\n"
      ]
    },
    {
      "cell_type": "code",
      "execution_count": null,
      "metadata": {
        "collapsed": false
      },
      "outputs": [],
      "source": [
        "df = dask.dataframe.from_array(cell_ids, columns=[\"x_id\", \"y_id\"])\ndf[\"geohash\"] = df.map_partitions(\n    lambda df: encode_geohash(df.to_numpy(), as_string=False, precision=grid._size / 2)\n)\n# nr_points will contain the nr of points per cell once '.count()' is called on the groupy object\ndf[\"nr_points\"] = 1\nprint(df)"
      ]
    },
    {
      "cell_type": "markdown",
      "metadata": {},
      "source": [
        "Notice how the DataFrame based on the cell_ids has separate columns for x and y values\n(which was the reason for creating the geohash in the first place).\nI will keep these values for they can be used after the groupby to reconstruct the grid indices.\n\n\n"
      ]
    },
    {
      "cell_type": "code",
      "execution_count": null,
      "metadata": {
        "collapsed": false
      },
      "outputs": [],
      "source": [
        "grouped = df.groupby(\"geohash\")\noccurrences = grouped.count()"
      ]
    },
    {
      "cell_type": "markdown",
      "metadata": {},
      "source": [
        "Now we have the number of points per cell.\nIn order to get the Polygon of each corresponding cell,\nwe were able to use the index in the pandas example to call grid.to_shapely.\nSince now the index is based on the geohash, the grid index first needs to be obtained in a different way.\nI will use the x and y columns for that that were created when the cell_ids were converted to the Dask DataFrame.\nSince all values of x and y should be the same for a given geohash, we can take the 'first' x and y values per geohash.\n``dask.compute`` is called to read out the results into a pandas dataframe.\n\n.. Note ::\n    If you are wondering why we went through all that effort just to end up with a pandas DataFrame in the end,\n    suffice it to say that the size of the data is significantly reduced after the groupby.\n    Also, for the sake of the example I will plot the data with matplotlib.\n    If this was indeed on your mind, nice, stay sharp ;)\n\n\n"
      ]
    },
    {
      "cell_type": "code",
      "execution_count": null,
      "metadata": {
        "collapsed": false
      },
      "outputs": [],
      "source": [
        "index = grouped.first()[[\"x_id\", \"y_id\"]]\npolygons = index.map_partitions(grid.to_shapely, meta={\"geoms\": object})\ngeoms, points_per_cell = dask.compute(polygons, occurrences.nr_points)"
      ]
    },
    {
      "cell_type": "markdown",
      "metadata": {},
      "source": [
        "## Visualize the results\n\nNote how the results are identical to the pandas version.\nThe input data was the same so this should indeed be the case.\n\n\n"
      ]
    },
    {
      "cell_type": "code",
      "execution_count": null,
      "metadata": {
        "collapsed": false
      },
      "outputs": [],
      "source": [
        "import matplotlib.pyplot as plt\n\nplot_polygons(geoms, points_per_cell, \"Blues\")\nplt.title(\"Number of points per cell\")\nplt.show()"
      ]
    }
  ],
  "metadata": {
    "kernelspec": {
      "display_name": "Python 3",
      "language": "python",
      "name": "python3"
    },
    "language_info": {
      "codemirror_mode": {
        "name": "ipython",
        "version": 3
      },
      "file_extension": ".py",
      "mimetype": "text/x-python",
      "name": "python",
      "nbconvert_exporter": "python",
      "pygments_lexer": "ipython3",
      "version": "3.10.18"
    }
  },
  "nbformat": 4,
  "nbformat_minor": 0
}