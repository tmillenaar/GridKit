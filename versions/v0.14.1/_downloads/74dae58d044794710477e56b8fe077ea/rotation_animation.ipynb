{
  "cells": [
    {
      "cell_type": "markdown",
      "metadata": {},
      "source": [
        "\n\n# Rotation animation\n\nAnimated visualization of grid rotation\n\n## Introduction\n\nGrids can be rotated around the origin.\n\nSome more info on rotations is in example `rotated_grids.py <example rotated grids>`.\n\nIn this example, an animation is created where the grid rotates around the origin.\nThe grid is centered around zero and rotated a little more every frame.\nSince hexagonal grids have a six-fold symmetry, we only have to animate from\n0-60 and loop it. It will look like a continuous rotation.\nEvery frame, a new grid is created that is centered around 0,0 and rotated \ntwo degrees more than the previous frame.\n"
      ]
    },
    {
      "cell_type": "code",
      "execution_count": null,
      "metadata": {
        "collapsed": false
      },
      "outputs": [],
      "source": [
        "import matplotlib.pyplot as plt\nimport numpy\nfrom matplotlib.animation import FuncAnimation\n\nfrom gridkit import HexGrid\nfrom gridkit.doc_utils import plot_polygons\n\n# Initialize\ngrid = HexGrid(size=1, rotation=0).anchor([0, 0])\ncenter_id = grid.cell_at_point([0, 0])\nids = grid.neighbours(center_id, depth=4)\ndistance = numpy.linalg.norm(grid.centroid(ids) - grid.centroid(center_id), axis=1)\n\n\ndef update_frame(rotation):\n    ax.clear()\n    ax.scatter(0, 0)\n    grid.rotation = rotation\n    geoms = grid.to_shapely(ids, as_multipolygon=True)\n    im = plot_polygons(geoms.geoms, colors=distance, fill=True, ax=ax)\n    ax.set_title(f\"Rotation: {rotation} degrees\")\n    ax.set_xlim(-5, 5)\n    ax.set_ylim(-5, 5)\n    ax.set_axis_off()\n\n\n# Create animation\nfig, ax = plt.subplots()\nax.set_aspect(\"equal\")\nanim = FuncAnimation(\n    fig, update_frame, frames=range(0, 60, 2), repeat=True, interval=50\n)\nplt.show()"
      ]
    }
  ],
  "metadata": {
    "kernelspec": {
      "display_name": "Python 3",
      "language": "python",
      "name": "python3"
    },
    "language_info": {
      "codemirror_mode": {
        "name": "ipython",
        "version": 3
      },
      "file_extension": ".py",
      "mimetype": "text/x-python",
      "name": "python",
      "nbconvert_exporter": "python",
      "pygments_lexer": "ipython3",
      "version": "3.10.18"
    }
  },
  "nbformat": 4,
  "nbformat_minor": 0
}