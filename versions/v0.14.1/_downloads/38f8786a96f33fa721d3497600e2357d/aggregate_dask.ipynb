{
  "cells": [
    {
      "cell_type": "markdown",
      "metadata": {},
      "source": [
        "\n\n# Tiled aggregation from points with Dask\n\nGroup points into grid cells in a tiled manner, using Dask.\n\n## Introduction\n\nIn example `aggregate.py <example aggregate>` an approach is demonstrated where points \nare grouped in cells and averaged per cell.\nThis example does the same, but in a tiled manner.\nDask is used for the groupby opertaion instead of Pandas.\nThe main difference is that Dask divides the data into chunks that can be processed independently.\nThis approach is beneficial if data does not comfortably fit into memory.\nA second reason to use this approach is the ability to process different chunks concurrently,\nwhich can provide a significant speedup.\n\n.. Note ::\n\n    Even though parallel processing using Dask can speed up the script, \n    for a small case like this the overhead is larger than the benefit obtained by parallelizing the operation.\n\n..\n\nFor a description of the approach used, please refer to `aggregate.py <example aggregate>`.\nThis example mostly highlights the differences between the two approaches.\n\n.. Note ::\n\n    Dask uses the terms 'chunks', 'blocks' and 'partitions'.\n    While there are some nuances, in this example these terms will be used interchangeably.\n    I will try to stick with 'chunks' where I can since this is the general term, \n    though you will find references to 'map_blocks()' for Arrays and 'map_partitions()' for DataFrames.\n\n## Generate input data\n\nLet's start by generating some points.\nThe data will be a set of points scattered around a circle to create \na dougnut-like shape.\nI will first generate the points and the turn them into a Dask Array\nusing ``dask.dataframe.from_array``.\nIn a scenario where Dask is used because the data is large and memory is limited,\nyou will likely obtain your dask array in a way that\ndoes not involve first loading the whole array into memory like I do here.\nI will print ``npartitions`` to show the number of chunks the array is divided in\n(spoiler, it will be 2000/500 = 4).\n"
      ]
    },
    {
      "cell_type": "code",
      "execution_count": null,
      "metadata": {
        "collapsed": false
      },
      "outputs": [],
      "source": [
        "import dask\nimport dask.array\nimport dask.dataframe\n\nfrom gridkit.doc_utils import generate_2d_scatter_doughnut, plot_polygons\n\npoints = generate_2d_scatter_doughnut(num_points=2000, radius=4)\ndf = dask.dataframe.from_array(points, columns=[\"pnt_x\", \"pnt_y\"], chunksize=500)\nprint(df.npartitions)  # show the number of chunks"
      ]
    },
    {
      "cell_type": "markdown",
      "metadata": {},
      "source": [
        "## Relate points to grid cells\n\nNow we can create a grid and determine the cell associated to each point.\nNo advanced knowledge of Dask is required to follow this example.\nIt suffices to know that 'map_blocks' and 'map_partitions' will apply the supplied function to all chunks.\n:meth:`.GridIndex.index_1d` is used because it gives a single number that can be used as\na DataFrame index during the groupby operation.\n\nThe column 'nr_points' will contain the nr of points per cell once '.count()' is called on the groupy object\n\n.. Note ::\n\n   The DataFrame only has a 'pnt_x' and a 'pnt_y' column. which is already the appropriate\n   shape for ``grid.cell_at_point``. However, ``p[[\"pnt_x\", \"pnt_y\"]]`` is specified here\n   to make clear that ``cell_at_point`` expects this pattern and any other columns in the\n   DataFrame will need to be ignored for this operation.\n\n\n"
      ]
    },
    {
      "cell_type": "code",
      "execution_count": null,
      "metadata": {
        "collapsed": false
      },
      "outputs": [],
      "source": [
        "from gridkit import GridIndex, HexGrid\n\ngrid = HexGrid(size=1, shape=\"flat\")\ndf[\"cell_id\"] = df.map_partitions(\n    lambda p: grid.cell_at_point(p[[\"pnt_x\", \"pnt_y\"]]).index_1d\n)\ndf[\"nr_points\"] = 1\nprint(df)"
      ]
    },
    {
      "cell_type": "markdown",
      "metadata": {},
      "source": [
        "We can group by the 'cell_id'. That means points with the same 'cell_id' will be combined.\n'count()' then gets the number of points for every 'cell_id'.\n\n\n"
      ]
    },
    {
      "cell_type": "code",
      "execution_count": null,
      "metadata": {
        "collapsed": false
      },
      "outputs": [],
      "source": [
        "grouped = df.groupby(\"cell_id\")\noccurrences = grouped.count()"
      ]
    },
    {
      "cell_type": "markdown",
      "metadata": {},
      "source": [
        "Now we have the number of points per cell.\nIn order to get the Polygon of each corresponding cell,\n'occurrences.index' can be used, but since it is a 1d index,\nit first needs to be converted to a normal index using :meth:`.GridIndex.from_index_1d`\n\n.. Note ::\n    If you are wondering why we went through all that effort just to end up with a pandas DataFrame in the end,\n    suffice it to say that the size of the data is significantly reduced after the groupby.\n    Also, for the sake of the example I will plot the data with matplotlib.\n\n\n"
      ]
    },
    {
      "cell_type": "code",
      "execution_count": null,
      "metadata": {
        "collapsed": false
      },
      "outputs": [],
      "source": [
        "polygons = occurrences.index.map_partitions(\n    lambda id: grid.to_shapely(GridIndex.from_index_1d(id)), meta={\"geoms\": object}\n)\ngeoms, points_per_cell = dask.compute(polygons, occurrences.nr_points)"
      ]
    },
    {
      "cell_type": "markdown",
      "metadata": {},
      "source": [
        "## Visualize the results\n\nNote how the results are identical to the pandas version.\nThe input data was the same so this should indeed be the case.\n\n\n"
      ]
    },
    {
      "cell_type": "code",
      "execution_count": null,
      "metadata": {
        "collapsed": false
      },
      "outputs": [],
      "source": [
        "import matplotlib.pyplot as plt\n\nplot_polygons(geoms, points_per_cell, \"Blues\")\nplt.title(\"Number of points per cell\")\nplt.show()"
      ]
    }
  ],
  "metadata": {
    "kernelspec": {
      "display_name": "Python 3",
      "language": "python",
      "name": "python3"
    },
    "language_info": {
      "codemirror_mode": {
        "name": "ipython",
        "version": 3
      },
      "file_extension": ".py",
      "mimetype": "text/x-python",
      "name": "python",
      "nbconvert_exporter": "python",
      "pygments_lexer": "ipython3",
      "version": "3.10.18"
    }
  },
  "nbformat": 4,
  "nbformat_minor": 0
}