{
  "cells": [
    {
      "cell_type": "markdown",
      "metadata": {},
      "source": [
        "\n\n# Cellular automata: Hexagonal automata\n\n\nThis script is based on the example shown in `game_of_life.py <example game of life>`, but here a Hexagonal grid is used with slightly differnt rules.\nHere the 6 neighbours around a cell are used. The rules are:\n\n    1. If a cell is alive, it stays alive if two and only two of it's neighbours are alive.\n    2. If a cell is dead, it becomes alive if one and only one of it's neighbours is alive.\n\nThis makes remarkably beautiful patterns on larger scales.\nA cell in a line has two neighbours, so it remains alive.\nIn this configuration, straight lines are stable and corners are not.\nBecause of this, the pattern can only grow form corners and not from a line. This results in remarkable patterns when played out over longer sessions.\n\nAlso pretty cool, notice that on frame 1 we have a ring that forms a hexagon and again on frames 3, 7 and 15.\nDo you see the pattern?\n\nI encourage you to play with this, though matplotlib as a backend is not very performant when animating many shapes.\n"
      ]
    },
    {
      "cell_type": "code",
      "execution_count": null,
      "metadata": {
        "collapsed": false
      },
      "outputs": [],
      "source": [
        "import matplotlib.pyplot as plt\nimport numpy\nfrom matplotlib.animation import FuncAnimation\n\nfrom gridkit import BoundedHexGrid\nfrom gridkit.doc_utils import plot_polygons\n\n# Initialize\nshape = (33, 33)\ndata = numpy.zeros(shape)\ngrid = BoundedHexGrid(data=data)\ngeoms = grid.to_shapely()  # Used for plotting\n\nneighbours = grid.neighbours(grid.indices)\nneighbours = numpy.stack(grid.grid_id_to_numpy_id(neighbours.ravel())).T.reshape(\n    (*shape, 6, 2)\n)\n\n# Animate\nfig, ax = plt.subplots()\nax.set_aspect(\"equal\")\n\n\ndef init():\n    data.ravel()[:] = 0\n    data[16, 16] = 1\n\n\ndef update_frame(frame):\n    ax.clear()\n    plot_polygons(geoms, colors=data.ravel(), cmap=\"gray_r\", fill=True, ax=ax)\n    ax.set_title(frame)\n    ax.set_axis_off()\n    nb = data[\n        neighbours[1 : shape[0] - 1, 1 : shape[1] - 1, :, 0],\n        neighbours[1 : shape[0] - 1, 1 : shape[1] - 1, :, 1],\n    ]\n    nr_nb_live = nb.sum(axis=-1)\n    is_live = data[1 : shape[0] - 1, 1 : shape[1] - 1] == 1\n    data[1 : shape[0] - 1, 1 : shape[1] - 1] = (\n        0 + is_live * (nr_nb_live == 2) + ~is_live * (nr_nb_live == 1)\n    )\n\n\nanim = FuncAnimation(\n    fig, update_frame, init_func=init, frames=range(0, 16), repeat=True, interval=300\n)\nplt.show()"
      ]
    }
  ],
  "metadata": {
    "kernelspec": {
      "display_name": "Python 3",
      "language": "python",
      "name": "python3"
    },
    "language_info": {
      "codemirror_mode": {
        "name": "ipython",
        "version": 3
      },
      "file_extension": ".py",
      "mimetype": "text/x-python",
      "name": "python",
      "nbconvert_exporter": "python",
      "pygments_lexer": "ipython3",
      "version": "3.10.18"
    }
  },
  "nbformat": 4,
  "nbformat_minor": 0
}