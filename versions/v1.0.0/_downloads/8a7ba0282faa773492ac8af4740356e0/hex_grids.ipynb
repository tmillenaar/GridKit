{
  "cells": [
    {
      "cell_type": "markdown",
      "metadata": {},
      "source": [
        "\n\n# Hexagon grids\n\nAdjusting shapes and sizes\n\n## Introduction\n\nIn this example a variety of hexagonal grids is created and compared.\nThe goal of this exercise is to familiarize the reader with the various configurations of hexagonal grids\nand how they compare to one another.\n\nLet's create a grid and obtain the polygons in some area of interest.\n"
      ]
    },
    {
      "cell_type": "code",
      "execution_count": null,
      "metadata": {
        "collapsed": false
      },
      "outputs": [],
      "source": [
        "from gridkit import HexGrid\nfrom gridkit.doc_utils import plot_polygons\n\n# create a grid\nmain_grid = HexGrid(size=10, shape=\"pointy\")\n\ntarget_loc = (0, 0)\n\n\ndef get_cells_around_target(grid):\n    target_cell = grid.cell_at_point(target_loc)\n    ids = grid.neighbours(target_cell, depth=3 * 10 / grid.size)\n    shapes = grid.to_shapely(ids)\n    return shapes\n\n\n# define a location around which we want to obtain some cells\n\nmain_shapes = get_cells_around_target(main_grid)"
      ]
    },
    {
      "cell_type": "markdown",
      "metadata": {},
      "source": [
        "Now we have shapes representing some of the cells in the grid.\nLet's plot the shapes to see what we are dealing with.\n\n"
      ]
    },
    {
      "cell_type": "code",
      "execution_count": null,
      "metadata": {
        "collapsed": false
      },
      "outputs": [],
      "source": [
        "import matplotlib.pyplot as plt\n\nplot_polygons(main_shapes, linewidth=2, fill=False, colors=\"orange\")\nplt.grid()\nplt.show()"
      ]
    },
    {
      "cell_type": "markdown",
      "metadata": {},
      "source": [
        "In this plot the gridlines are shown in the background to highlight how the grid is positioned in space\nWe can modify this using the 'offset'.\n\n## Shifting grids\n\nLet's shift the whole grid vertically to center it around coordinate (0,0)\nAlso, let's zoom in a bit to the center\n\n"
      ]
    },
    {
      "cell_type": "code",
      "execution_count": null,
      "metadata": {
        "collapsed": false
      },
      "outputs": [],
      "source": [
        "main_grid.offset = (0, main_grid.dy / 2)\nmain_shapes = get_cells_around_target(main_grid)\n\n# plot the cell outlines\nplot_polygons(main_shapes, linewidth=2, fill=False, colors=\"orange\")\nplt.xlim(-15, 15)\nplt.ylim(-15, 15)\nplt.grid()\nplt.show()"
      ]
    },
    {
      "cell_type": "markdown",
      "metadata": {},
      "source": [
        "We can create a second grid and play with the size and offset\nIf we shift the grid a deliberate amount so that it has a vertex on the center,\nit creates interesting patterns with respect to the grid we just created.\nFor this we need to shift it half a 'dx' horizontally and half a radius (distance from center to corner) vertically,\nwith respect to the main grid.\n\n"
      ]
    },
    {
      "cell_type": "code",
      "execution_count": null,
      "metadata": {
        "collapsed": false
      },
      "outputs": [],
      "source": [
        "shifted_grid = main_grid.update(\n    offset=(main_grid.dx / 2, (main_grid.dy + main_grid.r) / 2)\n)\nshifted_shapes = get_cells_around_target(\n    shifted_grid,\n)\n\n# plot the cell outlines\nplot_polygons(main_shapes, linewidth=2, fill=False, colors=\"orange\")\nplot_polygons(shifted_shapes, linewidth=2, fill=False, colors=\"purple\")\nplt.xlim(-15, 15)\nplt.ylim(-15, 15)\nplt.show()"
      ]
    },
    {
      "cell_type": "markdown",
      "metadata": {},
      "source": [
        "Here we were able to use the dimensions of the already existing main_grid to determine the offset\nof the shifted grid. It is often more convenient to first create a grid and then shift it,\nthan it is to calculate the desired shift beforehand. The advantage of determining the offset later\nis that we can use the already available `dx`, `dy` and `r` properties of the created grid.\nEven more convenient is that we can shift the grid after creating it using the .anchor() method.\nThat way we don't even have to get clever ourselves.\n\n## Grid sizes\n\nFinally, let's play with the size of the grid. If we keep the grids centered around zero but vary the size,\nwe also obtain interesting patterns.\n\n"
      ]
    },
    {
      "cell_type": "code",
      "execution_count": null,
      "metadata": {
        "collapsed": false
      },
      "outputs": [],
      "source": [
        "half_size_grid = main_grid.update(size=main_grid.size / 2).anchor(target_loc)\nthird_size_grid = main_grid.update(size=main_grid.size / 3).anchor(target_loc)\n\nhalf_size_shapes = get_cells_around_target(half_size_grid)\nthird_size_shapes = get_cells_around_target(third_size_grid)\n\n# plot the cell outlines\nplot_polygons(third_size_shapes, linewidth=2, fill=False, colors=\"purple\")\nplot_polygons(half_size_shapes, linewidth=2, fill=False, colors=\"red\")\nplot_polygons(main_shapes, linewidth=2, fill=False, colors=\"orange\")\n\nplt.xlim(-15, 15)\nplt.ylim(-15, 15)\nplt.show()"
      ]
    },
    {
      "cell_type": "markdown",
      "metadata": {},
      "source": [
        "Grids that overlap and intersect in predictable ways can be utilized to select particular cells of interest.\nSee `example selecting cells` for a example where this is done.\n\n\n"
      ]
    }
  ],
  "metadata": {
    "kernelspec": {
      "display_name": "Python 3",
      "language": "python",
      "name": "python3"
    },
    "language_info": {
      "codemirror_mode": {
        "name": "ipython",
        "version": 3
      },
      "file_extension": ".py",
      "mimetype": "text/x-python",
      "name": "python",
      "nbconvert_exporter": "python",
      "pygments_lexer": "ipython3",
      "version": "3.10.18"
    }
  },
  "nbformat": 4,
  "nbformat_minor": 0
}