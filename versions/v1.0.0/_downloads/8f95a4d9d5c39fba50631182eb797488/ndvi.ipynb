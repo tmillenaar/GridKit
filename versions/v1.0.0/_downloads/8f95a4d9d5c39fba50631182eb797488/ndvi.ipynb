{
  "cells": [
    {
      "cell_type": "markdown",
      "metadata": {},
      "source": [
        "\n\n# NDVI\n\nOperation using two raster bands\n\nIn this example we read two Sentinel 2 raster bands and combine them to calculate the Normalized Difference Vegetation Index (NDVI).\nSince these bands are already from the same Sentinel 2 acquisition, they are already 'aligned'.\nThis means none of the bands have to be resampled before we combine them.\n\n.. tip ::\n\n    If this example matches your use case, you may also be interested in the packages Rasterio or Rioxarray.\n    This example is created to get the reader familiar with the synax of GridKit and to highlight some of the intricacies when working with this package.\n"
      ]
    },
    {
      "cell_type": "code",
      "execution_count": null,
      "metadata": {
        "collapsed": false
      },
      "outputs": [],
      "source": [
        "import matplotlib.pyplot as plt\nimport numpy\n\nfrom gridkit.io import raster_to_data_tile\n\n# Read in the bands required to determine the NDVI\nband_4 = raster_to_data_tile(\"../../tests/data/20220708_S2_L2A_B04_raw.tiff\").astype(\n    float\n)\nband_8 = raster_to_data_tile(\"../../tests/data/20220708_S2_L2A_B08_raw.tiff\").astype(\n    float\n)"
      ]
    },
    {
      "cell_type": "markdown",
      "metadata": {},
      "source": [
        ".. warning ::\n   The source data is defined in `int16`, which is consequently also the numpy dtype after reading.\n   The numbers that result from adding the two bands are too large to store in a dtype of `int16`.\n   Numpy does not upcast automatically, so we need to be aware of the dtypes ourselves.\n   In this case the dtype is increased to `int32`, by calling ``astype`` directly after reading.\n   If this is not done, the script will run, but the resulting values will be incorrect.\n\n\n"
      ]
    },
    {
      "cell_type": "code",
      "execution_count": null,
      "metadata": {
        "collapsed": false
      },
      "outputs": [],
      "source": [
        "# Determine the NDVI\nndvi = (band_8 - band_4) / (band_8 + band_4)\nndvi[~numpy.isfinite(ndvi)] = 0  # fill NaN values resulting from a division by 0"
      ]
    },
    {
      "cell_type": "markdown",
      "metadata": {},
      "source": [
        ".. note ::\n   If, for any cell, the denominator (band_8 + band_4) is zero, Numpy raises a warning.\n   The return value for these cells is a ``numpy.nan``.\n   They will show as white in the image.\n   For a smoother looking visualization, these values are replaced with a zero in this example.\n   This decision is of course use case dependent.\n\n\n"
      ]
    },
    {
      "cell_type": "code",
      "execution_count": null,
      "metadata": {
        "collapsed": false
      },
      "outputs": [],
      "source": [
        "# Plot the result\nfig, ax = plt.subplots(1)\nim_ndvi = ax.imshow(ndvi, cmap=\"RdYlGn\", extent=band_4.mpl_extent, vmin=-1, vmax=1)\nfig.colorbar(im_ndvi, ax=ax, fraction=0.022, pad=0.01)\nax.set_xlabel(\"lon\")\nax.set_ylabel(\"lat\")\nax.set_title(f\"NDVI of scene in the alps \\n EPSG:{ndvi.grid.crs.to_epsg()}\")\n\nplt.show()"
      ]
    }
  ],
  "metadata": {
    "kernelspec": {
      "display_name": "Python 3",
      "language": "python",
      "name": "python3"
    },
    "language_info": {
      "codemirror_mode": {
        "name": "ipython",
        "version": 3
      },
      "file_extension": ".py",
      "mimetype": "text/x-python",
      "name": "python",
      "nbconvert_exporter": "python",
      "pygments_lexer": "ipython3",
      "version": "3.10.18"
    }
  },
  "nbformat": 4,
  "nbformat_minor": 0
}