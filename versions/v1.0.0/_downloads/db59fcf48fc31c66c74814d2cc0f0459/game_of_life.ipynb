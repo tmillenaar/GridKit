{
  "cells": [
    {
      "cell_type": "markdown",
      "metadata": {},
      "source": [
        "\n\n# Cellular automata: Conway's game of life\n\nCellular automata are a small set of rules relating to cells on a grid that can create complex patterns when applied repeatedly.\nThere is a near infinite veriety of rules, but far and away the most well known set of rules is that of the so called Conway's game of life.\nThe setup is as follows:\n - The board is a 2d rectangular grid\n - The 8 neighbouring cells are considered, so this includes the diagonal neighbours\n - A cell has two possbile states: alive or dead\n\nThe rules as taken from https://en.wikipedia.org/wiki/Conway%27s_Game_of_Life:\n\n 1. Any live cell with fewer than two live neighbours dies, as if by underpopulation.\n 2. Any live cell with two or three live neighbours lives on to the next generation.\n 3. Any live cell with more than three live neighbours dies, as if by overpopulation.\n 4. Any dead cell with exactly three live neighbours becomes a live cell, as if by reproduction.\n\n## Initial conditions\n\nAll cellular automata simulations are highly dependent on the initial conditions. We have to start with some dead cells and some live cells.\nAfter all, according to these rules, if all cells are live, the cells will die in the next generation and if all cells are dead, they stey dead\nfor they would need three live neighbours to become a live cell. Therefore we need to start with something that is at least halfway interesting.\nLet's set up a starting scenario. Feel free to download this script as a notebook and start fiddeling yourself.\nThe particular starting scenario I chose will replicate itself in three generations, which makes it convenient for creating\na looping animation.\n"
      ]
    },
    {
      "cell_type": "code",
      "execution_count": null,
      "metadata": {
        "collapsed": false
      },
      "outputs": [],
      "source": [
        "import matplotlib.pyplot as plt\nimport numpy\n\nfrom gridkit import BoundedRectGrid\nfrom gridkit.doc_utils import plot_polygons\n\n# Initialize\nshape = (17, 17)\ndata = numpy.zeros(shape)\ndata[2, 4:7] = 1\ndata[2, 10:13] = 1\ndata[7, 4:7] = 1\ndata[7, 10:13] = 1\ndata[9, 4:7] = 1\ndata[9, 10:13] = 1\ndata[14, 4:7] = 1\ndata[14, 10:13] = 1\ndata[4:7, 2] = 1\ndata[10:13, 2] = 1\ndata[4:7, 7] = 1\ndata[10:13, 7] = 1\ndata[4:7, 9] = 1\ndata[10:13, 9] = 1\ndata[4:7, 14] = 1\ndata[10:13, 14] = 1\n\ngrid = BoundedRectGrid(data=data)\n\nneighbours = grid.neighbours(grid.indices, connect_corners=True)\nneighbours = neighbours = numpy.stack(\n    grid.grid_id_to_numpy_id(neighbours.ravel())\n).T.reshape((*shape, 8, 2))\n\nplt.imshow(grid, extent=grid.mpl_extent, cmap=\"gray_r\")\nplt.title(\"Starting configuration\")\nplt.show()"
      ]
    },
    {
      "cell_type": "markdown",
      "metadata": {},
      "source": [
        "## The naive method\n\nWe can convert the rules into code. The naive but intuitive way would look something like:\n\n\n"
      ]
    },
    {
      "cell_type": "code",
      "execution_count": null,
      "metadata": {
        "collapsed": false
      },
      "outputs": [],
      "source": [
        "data_second_gen = data.copy()\nfor i in range(1, shape[0] - 1):\n    for j in range(1, shape[1] - 1):\n        nb = neighbours[i, j]\n        nr_nb_live = data[nb.T[0], nb.T[1]].sum()\n        if data[i, j] == 1:  # live cell\n            if nr_nb_live == 2 or nr_nb_live == 3:\n                data_second_gen[i, j] = 1\n            else:\n                data_second_gen[i, j] = 0\n        else:  # Dead cell\n            if nr_nb_live == 3:\n                data_second_gen[i, j] = 1\n            else:\n                data_second_gen[i, j] = 0\n\nplt.imshow(data_second_gen, extent=grid.mpl_extent, cmap=\"gray_r\")\nplt.title(\"Second generation\")\nplt.show()"
      ]
    },
    {
      "cell_type": "markdown",
      "metadata": {},
      "source": [
        "## The performant method\n\nThe unfortunate thing about this method is that it loops over all cells in python, which is slow.\nAs a first optimization we can get rid of the conditionals by adding all the contributions.\nThis can looks something like:\n\n"
      ]
    },
    {
      "cell_type": "code",
      "execution_count": null,
      "metadata": {
        "collapsed": false
      },
      "outputs": [],
      "source": [
        "data_third_gen = data.copy()\nfor i in range(1, shape[0] - 1):\n    for j in range(1, shape[1] - 1):\n        nb = neighbours[i, j]\n        nr_nb_live = data_second_gen[nb.T[0], nb.T[1]].sum()\n        data_third_gen[i, j] = (\n            0\n            + (data_second_gen[i, j] == 1) * (nr_nb_live == 2 or nr_nb_live == 3)\n            + (data_second_gen[i, j] != 1) * (nr_nb_live == 3)\n        )\n\nplt.imshow(data_third_gen, extent=grid.mpl_extent, cmap=\"gray_r\")\nplt.title(\"Third generation\")\nplt.show()"
      ]
    },
    {
      "cell_type": "markdown",
      "metadata": {},
      "source": [
        "With the code written like this, it is clear that we can also remove the double python loop by utilizing numpy slices:\n\n\n\n"
      ]
    },
    {
      "cell_type": "code",
      "execution_count": null,
      "metadata": {
        "collapsed": false
      },
      "outputs": [],
      "source": [
        "nb = data_third_gen[\n    neighbours[1 : shape[0] - 1, 1 : shape[1] - 1, :, 0],\n    neighbours[1 : shape[0] - 1, 1 : shape[1] - 1, :, 1],\n]\nnr_nb_live = nb.sum(axis=-1)\nis_live = data[1 : shape[0] - 1, 1 : shape[1] - 1] == 1\ndata_fourth_gen = (\n    0 + is_live * ((nr_nb_live == 2) | (nr_nb_live == 3)) + ~is_live * (nr_nb_live == 3)\n)\n\nplt.imshow(data_fourth_gen, extent=grid.mpl_extent, cmap=\"gray_r\")\nplt.title(\"Fourth generation\")\nplt.show()"
      ]
    },
    {
      "cell_type": "markdown",
      "metadata": {},
      "source": [
        "Note how this fourth generation looks the same as the starting conditions. The pattern loops every three frames/generations.\n\nWritten this way, you could even run this logic on a GPU using PyTorch or wgpu,\nbut since most time is now spent plotting using matplotlib you might also want to consider\na different visualization method (for example py-gfx) if a speedup for larger grids is desired.\n\n\n"
      ]
    },
    {
      "cell_type": "markdown",
      "metadata": {},
      "source": [
        "## Animation\n\nSince we are iterating over time, cellular automata lend itself well for an animation.\nGiven the logic above, the animation code can look like so:\n\n\n"
      ]
    },
    {
      "cell_type": "code",
      "execution_count": null,
      "metadata": {
        "collapsed": false
      },
      "outputs": [],
      "source": [
        "def update_frame(frame):\n    nb = data[\n        neighbours[1 : shape[0] - 1, 1 : shape[1] - 1, :, 0],\n        neighbours[1 : shape[0] - 1, 1 : shape[1] - 1, :, 1],\n    ]\n    nr_nb_live = nb.sum(axis=-1)\n    is_live = data[1 : shape[0] - 1, 1 : shape[1] - 1] == 1\n    data[1 : shape[0] - 1, 1 : shape[1] - 1] = (\n        0\n        + is_live * ((nr_nb_live == 2) | (nr_nb_live == 3))\n        + ~is_live * (nr_nb_live == 3)\n    )\n    ax.clear()\n    ax.imshow(data, extent=grid.mpl_extent, cmap=\"gray_r\")\n    ax.set_title(frame)\n    ax.set_axis_off()\n\n\n# Create animation\nfrom matplotlib.animation import FuncAnimation\n\nfig, ax = plt.subplots()\nax.set_aspect(\"equal\")\nax.imshow(data, extent=grid.mpl_extent, cmap=\"gray_r\")\nanim = FuncAnimation(fig, update_frame, frames=range(0, 6), repeat=True, interval=300)\nplt.show()"
      ]
    }
  ],
  "metadata": {
    "kernelspec": {
      "display_name": "Python 3",
      "language": "python",
      "name": "python3"
    },
    "language_info": {
      "codemirror_mode": {
        "name": "ipython",
        "version": 3
      },
      "file_extension": ".py",
      "mimetype": "text/x-python",
      "name": "python",
      "nbconvert_exporter": "python",
      "pygments_lexer": "ipython3",
      "version": "3.10.18"
    }
  },
  "nbformat": 4,
  "nbformat_minor": 0
}