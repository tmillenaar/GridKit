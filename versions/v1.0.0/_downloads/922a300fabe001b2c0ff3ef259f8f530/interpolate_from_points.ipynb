{
  "cells": [
    {
      "cell_type": "markdown",
      "metadata": {},
      "source": [
        "\n# Interpolate from points\n\nFill a BoundedGrid based on point data\n\n## Introduction\n\nIn this example a :class:`.DataTile` is created from a set of points by interpolating between the points.\nFor this operation we need:\n\n#. locations of the points\n#. values of the points\n#. a grid to interpolate on\n\nIn this example, we simulate the point data using a 2D sinusoidal equation.\nWe sample the equation at pseudo-random locations.\n"
      ]
    },
    {
      "cell_type": "code",
      "execution_count": null,
      "metadata": {
        "collapsed": false
      },
      "outputs": [],
      "source": [
        "import numpy\n\nnumpy.random.seed(0)\nx = 100 * numpy.random.rand(100)\nnumpy.random.seed(1)\ny = 100 * numpy.random.rand(100)\nvalues = numpy.sin(x / (10 * numpy.pi)) * numpy.sin(y / (10 * numpy.pi))\npoints = numpy.array([x, y]).T"
      ]
    },
    {
      "cell_type": "markdown",
      "metadata": {},
      "source": [
        "This input data looks as follows:\n\n"
      ]
    },
    {
      "cell_type": "code",
      "execution_count": null,
      "metadata": {
        "collapsed": false
      },
      "outputs": [],
      "source": [
        "import matplotlib.pyplot as plt\n\nplt.scatter(x, y, c=values)\nplt.colorbar()\nplt.title(\"Simulated input values\")\nplt.show()"
      ]
    },
    {
      "cell_type": "markdown",
      "metadata": {},
      "source": [
        "Now we can create a grid with your desired specifications and interpolate onto that grid.\n\n"
      ]
    },
    {
      "cell_type": "code",
      "execution_count": null,
      "metadata": {
        "collapsed": false
      },
      "outputs": [],
      "source": [
        "from gridkit import DataTile, HexGrid\n\nempty_grid = HexGrid(size=6, shape=\"pointy\", offset=(2, 0))\ndata_tile = DataTile.from_interpolated_points(empty_grid, points, values)\n\nimport shapely.geometry"
      ]
    },
    {
      "cell_type": "markdown",
      "metadata": {},
      "source": [
        "Currently the interpolation methods \"nearest\", \"linear\" and \"cubic\" are supported,\nbased on scpiy's ``NearestNDInterpolator``, ``LinearNDInterpolator`` and ``CloughTocher2DInterpolator``, respectively.\nHere we try each method and plot them next to each other to compare.\n\n"
      ]
    },
    {
      "cell_type": "code",
      "execution_count": null,
      "metadata": {
        "collapsed": false
      },
      "outputs": [],
      "source": [
        "from gridkit.doc_utils import plot_polygons\n\nfig, axes = plt.subplots(1, 3, sharey=True, figsize=(12, 5))\n\nfor ax, method in zip(axes, (\"nearest\", \"linear\", \"cubic\")):\n    data_tile = DataTile.from_interpolated_points(\n        empty_grid,\n        points,\n        values,\n        method=method,\n    )\n\n    # plot the interpolated values at the cells\n    plot_polygons(\n        data_tile.to_shapely(), data_tile.to_numpy().ravel(), \"viridis\", ax=ax\n    )\n\n    # plot original data\n    ax.scatter(x, y, c=values, edgecolors=\"black\")\n\n    # add outline of the grid bounds\n    plot_polygons(\n        shapely.geometry.Polygon(data_tile.corners()),\n        colors=\"red\",\n        fill=False,\n        linewidth=1,\n        ax=ax,\n        set_zoom_to_bounds=False,\n    )\n\n    ax.set_title(method, fontdict={\"fontsize\": 30})\n\nfig.tight_layout()\nplt.show()"
      ]
    },
    {
      "cell_type": "markdown",
      "metadata": {},
      "source": [
        "In this example, the `cubic` interpolation represents the original function the best, but this will differ per usecase.\nNote how the DataTile has nodata values at the border in the \"linear\" and \"cubic\" cases.\nThe bounds of the grid are automatically chosen include all points.\nCells of which the center is not within the convex hull of the data,\nbut are within the selected tile, get a `nodata_value` as specified when calling :meth:`.DataTile.from_interpolated_points` (default numpy.nan or dtype equivalent).\n\n"
      ]
    }
  ],
  "metadata": {
    "kernelspec": {
      "display_name": "Python 3",
      "language": "python",
      "name": "python3"
    },
    "language_info": {
      "codemirror_mode": {
        "name": "ipython",
        "version": 3
      },
      "file_extension": ".py",
      "mimetype": "text/x-python",
      "name": "python",
      "nbconvert_exporter": "python",
      "pygments_lexer": "ipython3",
      "version": "3.10.18"
    }
  },
  "nbformat": 4,
  "nbformat_minor": 0
}