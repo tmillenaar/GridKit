{
  "cells": [
    {
      "cell_type": "markdown",
      "metadata": {},
      "source": [
        "\n# Coordinate transformations\n\n\nTransform a grid from one CRS to another\n\n## Introduction\nA Coordinate Reference System (CRS) is a means of representing a 3D surface (usually of Earth) onto a 2D map. There are many Coordinate Reference Systems, all with their own advantages and discrepencies. There is no one CRS to\nrule them all, there are only tradeoffs. That said, it is generally recommended to use a locally defined CRS when possible.\n\n.. Note ::\n    In gridkit, a CRS is optional. If you represent, say,  a generic image as a grid there is no need for a CRS. By default, the CRS property on a grid is None. It can either be supplied when the grid is initiated or by setting the propery on the grid after creation, e.g. ``grid.crs = 4326``.\n\n## Warped grids\nGrids always have straight lines in the CRS they are defined in.\nWhen a straigt line is transformed to a different CRS, it often gets warped.\nTo demonstrate this, let's create a grid in WGS84 (epsg code 4326) and transform the coordinates of each cell to CRS UTM N29 (epsg code 32629).\n"
      ]
    },
    {
      "cell_type": "code",
      "execution_count": null,
      "metadata": {
        "collapsed": false
      },
      "outputs": [],
      "source": [
        "import numpy\n\nfrom gridkit import DataTile, RectGrid, Tile\n\n# Create a new grid\n# Use float as data type because NaNs nicely show up as transparent in matplotlib\ndata = numpy.arange(25 * 25, dtype=float).reshape(25, 25)\ngrid = RectGrid(size=2, crs=4326)\ntile = Tile(grid, (-20, -15), data.shape[1], data.shape[0])\ndata_tile_wgs84 = DataTile(\n    tile,\n    data,\n    nodata_value=numpy.nan,\n)\n\n# Plot the grid in it's native CRS\nimport matplotlib.pyplot as plt\n\nplt.imshow(data_tile_wgs84, extent=data_tile_wgs84.mpl_extent)\nplt.title(\"Original grid in WGS84\")\nplt.xlabel(\"$^\\circ$Lon\")\nplt.ylabel(\"$^\\circ$Lat\")\nplt.show()"
      ]
    },
    {
      "cell_type": "markdown",
      "metadata": {},
      "source": [
        "This is what the grid looks like it it's native CRS.\nNow let's transform the grid's cell centers\n\n\n"
      ]
    },
    {
      "cell_type": "code",
      "execution_count": null,
      "metadata": {
        "collapsed": false
      },
      "outputs": [],
      "source": [
        "from pyproj.transformer import CRS, Transformer\n\nutm_epsg = 32629\ntransformer = Transformer.from_crs(\n    data_tile_wgs84.grid.crs, CRS.from_user_input(utm_epsg), always_xy=True\n)  # UTM zone 28N\n\nwgs84_centroids_utm = transformer.transform(\n    *data_tile_wgs84.centroid().T\n)  # transform each cell\n\n# Plot the cell centers as a scatter plot, color them using their data value\nplt.scatter(\n    *wgs84_centroids_utm, s=20, c=data_tile_wgs84.to_numpy().ravel(), cmap=\"viridis\"\n)\nplt.title(\"WGS84 grid cells transformed to UTM\")\nplt.xlabel(\"x [metre]\")\nplt.ylabel(\"y [metre]\")\nplt.show()"
      ]
    },
    {
      "cell_type": "markdown",
      "metadata": {},
      "source": [
        "Notice how the whole grid is warped.\nThere is nothing we can do to combat the warping.\nIn order to work with a grid in a different CRS\nit needs to be resampled onto a grid that is straight in the new CRS.\nThat is what happens when we call the ``to_crs()`` method on the grid.\nA new grid is crated that is straigt in the desired CRS. The values of the new grid cells are interpolated from the transformed values of the source grid.\nTo demonstrate this principle, let's plot the straight grid as red dots on top of the warped one, containing the original data.\n\n"
      ]
    },
    {
      "cell_type": "code",
      "execution_count": null,
      "metadata": {
        "collapsed": false
      },
      "outputs": [],
      "source": [
        "grid_utm = data_tile_wgs84.to_crs(utm_epsg)  # resample using to_crs\n\n# Plot the cells of the source grid in the new CRS\nplt.scatter(\n    *wgs84_centroids_utm, s=20, c=data_tile_wgs84.to_numpy().ravel(), cmap=\"viridis\"\n)\n# Plot the location of the new cells\nplt.scatter(*grid_utm.centroid().T, s=3, color=\"red\")\nplt.title(\"New UTM grid on top of WGS84 grid in UTM\")\nplt.xlabel(\"x [metre]\")\nplt.ylabel(\"y [metre]\")\nplt.show()"
      ]
    },
    {
      "cell_type": "markdown",
      "metadata": {},
      "source": [
        "Now we showed only the location of the new grid cells,\nbut when ``to_crs()`` was called, the data already got resampled.\nBy default the 'nearest' ``resample_method`` is used.\nLet's plot the new grid with the transformed WGS84 cell locations on top to see what happened.\n\n\n"
      ]
    },
    {
      "cell_type": "code",
      "execution_count": null,
      "metadata": {
        "collapsed": false
      },
      "outputs": [],
      "source": [
        "plt.imshow(grid_utm, extent=grid_utm.mpl_extent)\nplt.scatter(*wgs84_centroids_utm, s=3, color=\"orange\")\n\nplt.show()"
      ]
    },
    {
      "cell_type": "markdown",
      "metadata": {},
      "source": [
        "For a smoother result, the 'bilinear' ``resample_method`` can be used.\nThis does lead to artifacts at the boundaries.\n\n\n"
      ]
    },
    {
      "cell_type": "code",
      "execution_count": null,
      "metadata": {
        "collapsed": false
      },
      "outputs": [],
      "source": [
        "grid_utm = data_tile_wgs84.to_crs(utm_epsg, resample_method=\"bilinear\")\nplt.imshow(grid_utm, extent=grid_utm.mpl_extent)\nplt.scatter(*wgs84_centroids_utm, s=3, color=\"orange\")\n\nplt.show()"
      ]
    },
    {
      "cell_type": "markdown",
      "metadata": {},
      "source": [
        "``to_crs()`` is just a shorthand for creating a grid with the same properties as the source grid, but with a different CRS, and calling resample.\nAny time ``source_grid.resample(target_grid)`` is called, the CRS of the grids are compared. If they are different, the logic described in this example is applied.\n\n"
      ]
    }
  ],
  "metadata": {
    "kernelspec": {
      "display_name": "Python 3",
      "language": "python",
      "name": "python3"
    },
    "language_info": {
      "codemirror_mode": {
        "name": "ipython",
        "version": 3
      },
      "file_extension": ".py",
      "mimetype": "text/x-python",
      "name": "python",
      "nbconvert_exporter": "python",
      "pygments_lexer": "ipython3",
      "version": "3.10.18"
    }
  },
  "nbformat": 4,
  "nbformat_minor": 0
}