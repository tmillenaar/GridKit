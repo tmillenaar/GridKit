{
  "cells": [
    {
      "cell_type": "markdown",
      "metadata": {},
      "source": [
        "\n# 2D Diffusion\n\n\n2D Diffusion on a HexGrid\n\n\n## Introduction\n\nThis example shows basic 2D diffusion on a HexGrid.\nWe start with a cold region surrounded by hot borders.\nWe will also add some hot patches in the middle of the cold region to make it look interesting.\nThe heat is then spread out by diffusion.\n\n## Diffusion\nDiffusion is a description of the spread of a physical property through time.\nAn easy example is the spread of temperature, which is what we will use in this example,\nbut other physical properties can also be modelled using diffusion.\nDiffusion is often coupled with advection (the transport of a substance) in models of fluid flow.\nHere we will only focus on the diffusion.\n\n## 1D diffusion equation derivation\n\nFirst I will derive the diffusion equation for one dimension, and then extrapolate to multiple dimensions.\n\nLet's start by viewing the distribution of temperature in a given space as being divided\ninto many small regions where the temperature is the same.\nI will call such a region a control volume. Such a volume can conceptually be infinitesimally small,\nbut for modelling purposes these control volumes will be given a finite size.\nThe change of the temperature ($\\Delta T$) in a given control volume is determined by the temperature flux \ngoing in to the control volume ($T_{flux}^{in}$) minus the temperature flux leaving the control volume ($T_{flux}^{out}$)\nin a given time step $\\Delta t$. \n\nThis means that the temperature in the next time step ($T^{t+\\Delta t}$) is determined by the current temperature ($T^t$)\nand the fluxes. As an equation this looks like:\n\n.. math ::\n\n    T^{t+\\Delta t} = T^{t} + \\Big( T_{flux}^{in} - T_{flux}^{out} \\Big) \\Delta t\n\n..\n\nor equivalently:\n\n.. math ::\n\n    T^{t+\\Delta t} - T^{t} = \\Big( T_{flux}^{in} - T_{flux}^{out} \\Big) \\Delta t\n\n..\n\n\n$T_{flux}^{in}$ and $T_{flux}^{out}$ describe the same kind of flux,\nbut at different locations in space, separated in space by distance $\\Delta x$.\nLet's rewrite this as:\n\n\n.. math ::\n\n    T^{t+\\Delta t} - T^{t} = \\Big( [ T_{flux} ] ^{x} - [ T_{flux} ] ^{x + \\Delta x} \\Big) \\Delta t\n\n..\n\nThe temperature flux, or heat flux, has a unit of energy per unit area per unit time.\nI will take a bit of a shortcut and say that the heat flux is given by:\n\n.. math ::\n\n    T_{flux} = D \\frac{ \\Delta T }{ \\Delta x \\Delta t }\n\n..\n\nWhere $D$ is the thermal diffusivity, which a constant and is dependent to the thermal conductivity of the material.\n\nSubstituting this into the equation above it we get:\n\n.. math ::\n\n    T^{t+\\Delta t} - T^{t} = \\Big( \\Big[ D \\frac{ \\Delta T }{ \\Delta x \\Delta t } \\Big] ^{x} - \\Big[ D \\frac{ \\Delta T }{ \\Delta x \\Delta t } \\Big] ^{x + \\Delta x} \\Big) \\Delta t\n\n..\n\nwhich we can simplify as:\n\n.. math ::\n\n    T^{t+\\Delta t} - T^{t} = D \\frac{ \\Delta T^x - \\Delta T^{x+\\Delta x} } {\\Delta x}\n\n..\n\nHere, $T^{t+\\Delta t} - T^{t}$ describes a change in temperature over a given time period $\\Delta t$.\nThis can also be written as $\\frac{ \\Delta T }{ \\Delta t }$.\nSimilarly, $\\Delta T^x - \\Delta T^{x+\\Delta x}$ describes a change in temperature over a given distance $\\Delta x$,\nwhich can also be written as $\\frac{ \\Delta T }{ \\Delta x }$.\nWe can therefore rewrite the equation given above as:\n\n.. math ::\n\n    \\frac{ \\Delta T }{ \\Delta t } = D \\frac{ \\frac{ \\Delta T }{ \\Delta x } }{ \\Delta x }\n\n..\n\nor equivalently:\n\n.. math ::\n\n    \\frac{ \\Delta T }{ \\Delta t } = D \\frac{ \\Delta T }{ \\Delta x \\Delta x }\n\n..\n\nIf we have $\\Delta t$ and $\\Delta x$ tend to zero, we can write this as the differential equation:\n\n.. math ::\n\n    \\frac{ \\delta T }{ \\delta t } = D \\frac{ \\delta ^2 T }{ \\delta x^2 }\n\n..\n\nThis is the basic form of the 1D thermal diffusion equation.\n\n### Multi-dimensional diffusion equation\n\nUsually, the 1D diffusion equation described above is extrapolated to 2D by considering\ntwo perpendicular directions of flow, `dx` and `dy`. The diffusion equation then becomes:\n\n.. math ::\n\n    \\frac{ \\delta T }{ \\delta t } = D \\Big( \\frac{ \\delta ^2 T }{ \\delta x^2 } + \\frac{ \\delta ^2 T }{ \\delta y^2 } \\Big)\n\n..\n\nThis works nicely for rectangular grids, but since we will be using a hexagonal grid in this example, this won't do nicely.\nWe will have to describe the directions in terms of the surrounding cells.\nSince a hexagon has 6 surrounding cells, we can describe the total flow as having three directions in a 2D plane.\nTo demonstrate what I mean, I will create a plot demonstrating the flow in three directions, x1, x2 and x3:\n"
      ]
    },
    {
      "cell_type": "code",
      "execution_count": null,
      "metadata": {
        "collapsed": false
      },
      "outputs": [],
      "source": [
        "import matplotlib.pyplot as plt\n\nfrom gridkit import GridIndex, HexGrid\nfrom gridkit.doc_utils import plot_polygons\n\ngrid = HexGrid(size=1)\nids = grid.neighbours([0, 0])\ncentroids = grid.centroid(ids.sort())\n\nplot_polygons(grid.to_shapely(ids), fill=False, linewidth=3)\nplt.scatter(\n    *grid.centroid([0, 0]), marker=\"h\", color=\"purple\", s=100\n)  # plot center, indicating location of temperature\nfor i in range(3):\n    from_ = centroids[0 + i]\n    to = centroids[5 - i]\n    # to = centroids[3+i]\n    plt.arrow(\n        *from_, *(to - from_), head_width=0.07, overhang=-0.1, length_includes_head=True\n    )\n    plt.text(*centroids[0 + i] + 0.02, f\"x_{i}\")\nplt.axis(\"off\")\nplt.show()"
      ]
    },
    {
      "cell_type": "markdown",
      "metadata": {},
      "source": [
        "Using these three directions, we can modify the diffusion equation appropriately:\n\n.. math ::\n\n    \\frac{ \\delta T }{ \\delta t } = D \\Big( \\frac{ \\delta ^2 T }{ (\\delta (x_1)^2 } + \\frac{ \\delta ^2 T }{ (\\delta  x_2) ^2 } + \\frac{ \\delta ^2 T }{ (\\delta x_3)^2 } \\Big)\n\n..\n\nWe can apply the 'forward time-centered space' finite difference method to this equation to get a form we can run as code.\nThis approach uses the flux on both boundaries of the cell.\nIn 1D this looks like so:\n\n.. math ::\n\n    T_{x}^{t_{n+1}} = T_{x}^{t_n} + D \\Delta t \\frac{ T_{x+1}^{t_n} - 2T_{x}^{t_n} + T_{x-1}^{t_n} }{ \\Delta x^2 }\n\n..\n\nHere $T_{x}^{t_{n+1}}$ is the temperature at location `x`` for the next time step ($t_{n+1}$),\nwhich is a function of the temperature at location x ($T_{x}^{t_n}$) at the current time step () ($t_n$)\nand that of the cells at locations $x-1$ and $x+1$.\n\nFor the multi-dimensional case using x1, x2 and x3, this equation becomes:\n\n.. math ::\n\n    T_{x}^{t_{n+1}} = T_{x}^{t_n} + D \\Delta t \\Big( \\\\\n                          \\frac{ T_{x_0+1, x_1, x_2}^{t_n} - 2T_{x_0, x_1, x_2}^{t_n} + T_{x_0-1, x_1, x_2}^{t_n} }{ (\\Delta x_0)^2 } + \\\\\n                          \\frac{ T_{x_0, x_1+1, x_2}^{t_n} - 2T_{x_0, x_1, x_2}^{t_n} + T_{x_0, x_1-1, x_2}^{t_n} }{ (\\Delta x_1)^2 } + \\\\\n                          \\frac{ T_{x_0, x_1, x_2+1}^{t_n} - 2T_{x_0, x_1, x_2}^{t_n} + T_{x_0, x_1, x_2-1}^{t_n} }{ (\\Delta x_2)^2 }\n                      \\Big)\n\n..\n\nNow, I realize this might look intimidating if you are not used to big equations.\nLuckily we can simplify this.\nBy the definition of our hexagonal grid, the distances\n$(\\Delta x_0)^2$, $(\\Delta x_1)^2$ and $(\\Delta x_2)^2$\nare all the same. Since all these distances are that of the cell width from side to side,\nlet's call this distance `cell_width`.\nThis means the equation can be written as:\n\n.. math ::\n\n    &T_{x}^{t_{n+1}} = T_{x}^{t_n} + \\\\\n        &D \\Delta t \\Big(\\frac{\n            T_{x_0+1, x_1, x_2}^{t_n} + T_{x_0-1, x_1, x_2}^{t_n} +\n            T_{x_0, x_1+1, x_2}^{t_n} + T_{x_0, x_1-1, x_2}^{t_n} +\n            T_{x_0, x_1, x_2+1}^{t_n} + T_{x_0, x_1, x_2-1}^{t_n}\n            - 6T_{x_0, x_1, x_2}^{t_n}\n          }{ cell\\_width^2 } \\Big)\n\n..\n\nLooking closely at the top of the numerator,\none might observe this is basically a matter of adding the temperatures of all six neighbours\nand subtracting the temperature of the center cell six times.\nTaking some artistic liberty with mathematical notation, this can then be written as:\n\n.. math ::\n\n    T_{x}^{t_{n+1}} = T_{x}^{t_n} + D \\Delta t \\Big(\\frac{\n        \\sum_{i=0}^{6} T_{neighbour\\_i}^{t_n}\n        - 6T_{x_0, x_1, x_2}^{t_n}\n    }{ cell\\_width^2 } \\Big)\n\n..\n\nHere $T_{neighbour\\_i}^{t_n}$ refers to the temperature of the 'i-th' neighbour, of which there are six.\n\nFinally, the step size in time $\\Delta t$ is determined by the following equation:\n\n.. math ::\n\n   \\Delta t = \\frac{1}{2D} \\frac{ (\\Delta x_0 \\Delta x_1 \\Delta x_2)^2 }{ ( \\Delta x_0)^2 + (\\Delta x_1)^2 + (\\Delta x_2)^2 }\n\n..\n\nWhich we can simplify to:\n\n.. math ::\n\n   \\Delta t = \\frac{1}{2D} \\frac{ cell\\_width^6 }{ 3 (cell\\_width^2) }\n\n..\n\nand further to:\n\n.. math ::\n\n   \\Delta t = \\frac{ cell\\_width^4 }{ 6 D }\n\n..\n\n## Setup\nNow we have the theory covered, let's define a setup with some parameters.\nThe setup is inspired by the following article: https://scipython.com/book/chapter-7-matplotlib/examples/the-two-dimensional-diffusion-equation/\nThough we will modify it a bit, to make it look a bit more interesting.\nFirst, let's define a region and divide that up in hexagons.\n\n\n"
      ]
    },
    {
      "cell_type": "code",
      "execution_count": null,
      "metadata": {
        "collapsed": false
      },
      "outputs": [],
      "source": [
        "# Grid size\ngrid = HexGrid(size=1)  # Define grid in mm\nnr_cells_x = nr_cells_y = 30\n\n# Thermal properties\nD = 4.0  # Thermal diffusivity of steel, mm2.s-1\nTcool, Thot = 0, 1000  # Temperatures in degrees\n\n# plotting\nplot_interval = 0.1  # time in seconds\ntmax = 1.0  # time in seconds"
      ]
    },
    {
      "cell_type": "markdown",
      "metadata": {},
      "source": [
        "For the boundary conditions, we will have a hot rim surrounding the modelled area.\nLet's define the outer bounds and the inner bounds, where the inner bounds will be cool,\nand the cells between the inner bound and outer bound are hot.\nThe hot cells at the boundary will remain hot and will not be updated in the time loop.\n\n\n"
      ]
    },
    {
      "cell_type": "code",
      "execution_count": null,
      "metadata": {
        "collapsed": false
      },
      "outputs": [],
      "source": [
        "outer_bounds = (0, 0, nr_cells_x * grid.dx, nr_cells_y * grid.dy)\ninner_bounds = (\n    grid.dx,\n    grid.dy,\n    (nr_cells_x - 1) * grid.dx,\n    (nr_cells_y - 1) * grid.dy,\n)\ninner_ids = grid.cells_in_bounds(inner_bounds).ravel()\n\ndatagrid = grid.to_bounded(outer_bounds, fill_value=Thot)\nnp_ids = datagrid.grid_id_to_numpy_id(inner_ids)\ndatagrid.data[np_ids] = Tcool"
      ]
    },
    {
      "cell_type": "markdown",
      "metadata": {},
      "source": [
        "Also, let's select some cells form inside the cold region and give them a hot starting temperature to\nmake it look more interesting.\n\n\n"
      ]
    },
    {
      "cell_type": "code",
      "execution_count": null,
      "metadata": {
        "collapsed": false
      },
      "outputs": [],
      "source": [
        "hot_ids = (\n    grid.neighbours([[9, 11], [12, 14], [21, 19]], depth=4, include_selected=True)\n    .ravel()\n    .unique()\n)\nnp_ids_hot = datagrid.grid_id_to_numpy_id(hot_ids)\ndatagrid.data[np_ids_hot] = Thot"
      ]
    },
    {
      "cell_type": "markdown",
      "metadata": {},
      "source": [
        "Let's take a look at what these starting conditions look like\n\n"
      ]
    },
    {
      "cell_type": "code",
      "execution_count": null,
      "metadata": {
        "collapsed": false
      },
      "outputs": [],
      "source": [
        "plot_polygons(\n    datagrid.to_shapely(),\n    colors=datagrid.data.ravel(),\n    fill=True,\n    cmap=\"magma\",\n    edgecolor=\"grey\",\n    add_colorbar=True,\n)\nplt.axis(\"off\")\nplt.show()"
      ]
    },
    {
      "cell_type": "markdown",
      "metadata": {},
      "source": [
        "Here, all beige cells are the cells that start out hot and the black cells start out cool.\n\n## The model\nFor this grid, the important variables we will need for the diffusion equation are:\n\n\n"
      ]
    },
    {
      "cell_type": "code",
      "execution_count": null,
      "metadata": {
        "collapsed": false
      },
      "outputs": [],
      "source": [
        "cell_width = grid.dx\ndt = cell_width**4 / (6 * D)"
      ]
    },
    {
      "cell_type": "markdown",
      "metadata": {},
      "source": [
        "We will only have to obtain the neighbour indices once and reuse these every time step.\n\n\n"
      ]
    },
    {
      "cell_type": "code",
      "execution_count": null,
      "metadata": {
        "collapsed": false
      },
      "outputs": [],
      "source": [
        "neighbours = grid.neighbours(inner_ids)\nnbr_ids = neighbours.index"
      ]
    },
    {
      "cell_type": "markdown",
      "metadata": {},
      "source": [
        "It's finally time to do the real work.\nLoop through time, solve the diffusion equation and save the intermediate data for later plotting:\n\n\n"
      ]
    },
    {
      "cell_type": "code",
      "execution_count": null,
      "metadata": {
        "collapsed": false
      },
      "outputs": [],
      "source": [
        "time = 0\ntime_since_last_plot = plot_interval  # start with a plot of the initial state\nplot_data = []\nplot_titles = []\nwhile time < tmax:\n    if time_since_last_plot >= plot_interval:  # Save data every plot_interval\n        plot_data.append(datagrid.data.ravel().copy())\n        plot_titles.append(\"{:.1f} ms\".format(time * 1000))\n        time_since_last_plot = 0\n    # Solve diffusion equation for this timestep\n    datagrid.data[np_ids] = datagrid.data[np_ids] + D * dt * (\n        (datagrid.value(nbr_ids).sum(axis=-1) - 6 * datagrid.value(inner_ids))\n        / cell_width**2\n    )\n    time += dt\n    time_since_last_plot += dt"
      ]
    },
    {
      "cell_type": "markdown",
      "metadata": {},
      "source": [
        "## Animation\n\n\n"
      ]
    },
    {
      "cell_type": "code",
      "execution_count": null,
      "metadata": {
        "collapsed": false
      },
      "outputs": [],
      "source": [
        "from matplotlib.animation import FuncAnimation\n\nall_geoms = datagrid.to_shapely()\n\n\ndef update_frame(frame_id):\n    ax.clear()\n    im = plot_polygons(\n        all_geoms,\n        colors=plot_data[frame_id],\n        fill=True,\n        ax=ax,\n        cmap=\"magma\",\n        vmin=Tcool,\n        vmax=Thot,\n    )\n    ax.set_title(plot_titles[frame_id])\n    ax.set_aspect(\"equal\")\n    ax.set_axis_off()\n\n\n# Create animation\nfig, ax = plt.subplots()\nanim = FuncAnimation(\n    fig, update_frame, frames=range(0, len(plot_data)), repeat=True, interval=200\n)\nplt.show()"
      ]
    }
  ],
  "metadata": {
    "kernelspec": {
      "display_name": "Python 3",
      "language": "python",
      "name": "python3"
    },
    "language_info": {
      "codemirror_mode": {
        "name": "ipython",
        "version": 3
      },
      "file_extension": ".py",
      "mimetype": "text/x-python",
      "name": "python",
      "nbconvert_exporter": "python",
      "pygments_lexer": "ipython3",
      "version": "3.10.18"
    }
  },
  "nbformat": 4,
  "nbformat_minor": 0
}